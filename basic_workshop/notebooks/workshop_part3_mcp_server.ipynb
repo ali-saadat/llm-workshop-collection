{
 "cells": [
  {
   "cell_type": "code",
   "execution_count": 1,
   "id": "5e0baf4a",
   "metadata": {},
   "outputs": [
    {
     "data": {
      "text/plain": [
       "\"\\n🚀 LLM Workshop: Part 3 - MCP Server Development\\nDuration: ~45 minutes\\nLevel: Beginner\\n\\nIMPORTANT: Make sure your virtual environment is activated!\\nIf you haven't set up the environment yet, run: python3 workshop_setup.py\\n\""
      ]
     },
     "execution_count": 1,
     "metadata": {},
     "output_type": "execute_result"
    }
   ],
   "source": [
    "\"\"\"\n",
    "🚀 LLM Workshop: Part 3 - MCP Server Development\n",
    "Duration: ~45 minutes\n",
    "Level: Beginner\n",
    "\n",
    "IMPORTANT: Make sure your virtual environment is activated!\n",
    "If you haven't set up the environment yet, run: python3 workshop_setup.py\n",
    "\"\"\""
   ]
  },
  {
   "cell_type": "code",
   "execution_count": 2,
   "id": "7f5e0421",
   "metadata": {},
   "outputs": [],
   "source": [
    "import json\n",
    "import asyncio\n",
    "import subprocess\n",
    "import sys\n",
    "from typing import Any, Dict, List, Optional\n",
    "from datetime import datetime"
   ]
  },
  {
   "cell_type": "markdown",
   "id": "c5fe98ea",
   "metadata": {},
   "source": [
    "============================================================================\n",
    "🔧 SECTION 3: MCP SERVER DEVELOPMENT\n",
    "============================================================================"
   ]
  },
  {
   "cell_type": "code",
   "execution_count": 3,
   "id": "f05c0023",
   "metadata": {},
   "outputs": [
    {
     "name": "stdout",
     "output_type": "stream",
     "text": [
      "🎯 LLM WORKSHOP - PART 3: MCP Server Development\n",
      "============================================================\n"
     ]
    }
   ],
   "source": [
    "print(\"🎯 LLM WORKSHOP - PART 3: MCP Server Development\")\n",
    "print(\"=\" * 60)"
   ]
  },
  {
   "cell_type": "markdown",
   "id": "a9c751dd",
   "metadata": {},
   "source": [
    "============================================================================\n",
    "📚 WHAT IS MCP?\n",
    "============================================================================"
   ]
  },
  {
   "cell_type": "code",
   "execution_count": 4,
   "id": "46dd8c33",
   "metadata": {},
   "outputs": [
    {
     "name": "stdout",
     "output_type": "stream",
     "text": [
      "📚 Understanding MCP (Model Context Protocol)\n",
      "----------------------------------------\n"
     ]
    }
   ],
   "source": [
    "print(\"📚 Understanding MCP (Model Context Protocol)\")\n",
    "print(\"-\" * 40)"
   ]
  },
  {
   "cell_type": "code",
   "execution_count": 5,
   "id": "1f13c98d",
   "metadata": {},
   "outputs": [
    {
     "name": "stdout",
     "output_type": "stream",
     "text": [
      "\n",
      "🔍 MCP (Model Context Protocol) is a way for AI models to:\n",
      "- Connect to external tools and resources\n",
      "- Access real-time information\n",
      "- Interact with your local system\n",
      "- Extend their capabilities beyond just text\n",
      "\n",
      "💡 Think of it as giving your AI a \"remote control\" to your computer!\n",
      "\n"
     ]
    }
   ],
   "source": [
    "print(\"\"\"\n",
    "🔍 MCP (Model Context Protocol) is a way for AI models to:\n",
    "- Connect to external tools and resources\n",
    "- Access real-time information\n",
    "- Interact with your local system\n",
    "- Extend their capabilities beyond just text\n",
    "\n",
    "💡 Think of it as giving your AI a \"remote control\" to your computer!\n",
    "\"\"\")"
   ]
  },
  {
   "cell_type": "markdown",
   "id": "0c7afc1a",
   "metadata": {},
   "source": [
    "============================================================================\n",
    "🛠️ INSTALLING MCP REQUIREMENTS\n",
    "============================================================================"
   ]
  },
  {
   "cell_type": "code",
   "execution_count": 6,
   "id": "0bce61f3",
   "metadata": {
    "lines_to_next_cell": 1
   },
   "outputs": [
    {
     "name": "stdout",
     "output_type": "stream",
     "text": [
      "\n",
      "============================================================\n",
      "🛠️ Installing MCP Requirements\n",
      "============================================================\n"
     ]
    }
   ],
   "source": [
    "print(\"\\n\" + \"=\" * 60)\n",
    "print(\"🛠️ Installing MCP Requirements\")\n",
    "print(\"=\" * 60)"
   ]
  },
  {
   "cell_type": "code",
   "execution_count": 7,
   "id": "35a6e106",
   "metadata": {
    "lines_to_next_cell": 1
   },
   "outputs": [],
   "source": [
    "def install_mcp_requirements():\n",
    "    \"\"\"Install required packages for MCP development\"\"\"\n",
    "    packages = [\n",
    "        \"mcp\",\n",
    "        \"mcp-server-stdio\",\n",
    "        \"mcp-client-stdio\"\n",
    "    ]\n",
    "    \n",
    "    print(\"📦 Installing MCP packages...\")\n",
    "    for package in packages:\n",
    "        try:\n",
    "            subprocess.check_call([sys.executable, \"-m\", \"pip\", \"install\", package])\n",
    "            print(f\"✅ {package} installed successfully\")\n",
    "        except subprocess.CalledProcessError:\n",
    "            print(f\"❌ Failed to install {package}\")\n",
    "            print(\"💡 You may need to install manually: pip install mcp\")"
   ]
  },
  {
   "cell_type": "markdown",
   "id": "8026191d",
   "metadata": {},
   "source": [
    "Uncomment the line below to install packages\n",
    "install_mcp_requirements()"
   ]
  },
  {
   "cell_type": "code",
   "execution_count": 8,
   "id": "ea44c475",
   "metadata": {},
   "outputs": [
    {
     "name": "stdout",
     "output_type": "stream",
     "text": [
      "💡 If you haven't installed MCP packages yet, run:\n",
      "   pip install mcp mcp-server-stdio mcp-client-stdio\n"
     ]
    }
   ],
   "source": [
    "print(\"💡 If you haven't installed MCP packages yet, run:\")\n",
    "print(\"   pip install mcp mcp-server-stdio mcp-client-stdio\")"
   ]
  },
  {
   "cell_type": "markdown",
   "id": "f147feff",
   "metadata": {},
   "source": [
    "============================================================================\n",
    "🚀 CREATING YOUR FIRST MCP SERVER\n",
    "============================================================================"
   ]
  },
  {
   "cell_type": "code",
   "execution_count": 9,
   "id": "59a5b6fd",
   "metadata": {},
   "outputs": [
    {
     "name": "stdout",
     "output_type": "stream",
     "text": [
      "\n",
      "============================================================\n",
      "🚀 Creating Your First MCP Server\n",
      "============================================================\n"
     ]
    }
   ],
   "source": [
    "print(\"\\n\" + \"=\" * 60)\n",
    "print(\"🚀 Creating Your First MCP Server\")\n",
    "print(\"=\" * 60)"
   ]
  },
  {
   "cell_type": "code",
   "execution_count": 10,
   "id": "25b6a57d",
   "metadata": {},
   "outputs": [],
   "source": [
    "# Create a simple MCP server\n",
    "mcp_server_code = '''#!/usr/bin/env python3\n",
    "\"\"\"\n",
    "🎯 Simple MCP Server - Hello World\n",
    "This server provides basic tools for demonstration\n",
    "\"\"\"\n",
    "\n",
    "import asyncio\n",
    "import json\n",
    "from typing import Any, Dict, List, Optional\n",
    "from mcp.server import Server\n",
    "from mcp.server.models import InitializationOptions\n",
    "from mcp.server.stdio import stdio_server\n",
    "from mcp.types import (\n",
    "    Resource, TextContent, ImageContent, EmbeddedResource,\n",
    "    LoggingLevel, Prompt, PromptSegment, Tool, TextContent\n",
    ")\n",
    "\n",
    "# Create our MCP server\n",
    "server = Server(\"workshop-mcp-server\")\n",
    "\n",
    "# ============================================================================\n",
    "# 🛠️ TOOL 1: Hello World Tool\n",
    "# ============================================================================\n",
    "\n",
    "@server.list_tools()\n",
    "async def list_tools() -> List[Tool]:\n",
    "    \"\"\"List all available tools\"\"\"\n",
    "    return [\n",
    "        Tool(\n",
    "            name=\"hello_world\",\n",
    "            description=\"A simple hello world tool that greets the user\",\n",
    "            inputSchema={\n",
    "                \"type\": \"object\",\n",
    "                \"properties\": {\n",
    "                    \"name\": {\n",
    "                        \"type\": \"string\",\n",
    "                        \"description\": \"Your name (optional)\"\n",
    "                    }\n",
    "                }\n",
    "            }\n",
    "        ),\n",
    "        Tool(\n",
    "            name=\"get_current_time\",\n",
    "            description=\"Get the current date and time\",\n",
    "            inputSchema={\n",
    "                \"type\": \"object\",\n",
    "                \"properties\": {}\n",
    "            }\n",
    "        ),\n",
    "        Tool(\n",
    "            name=\"calculate_simple\",\n",
    "            description=\"Perform simple math calculations\",\n",
    "            inputSchema={\n",
    "                \"type\": \"object\",\n",
    "                \"properties\": {\n",
    "                    \"expression\": {\n",
    "                        \"type\": \"string\",\n",
    "                        \"description\": \"Math expression like '2 + 2' or '10 * 5'\"\n",
    "                    }\n",
    "                },\n",
    "                \"required\": [\"expression\"]\n",
    "            }\n",
    "        )\n",
    "    ]\n",
    "\n",
    "# ============================================================================\n",
    "# 🎯 TOOL IMPLEMENTATIONS\n",
    "# ============================================================================\n",
    "\n",
    "@server.call_tool()\n",
    "async def call_tool(name: str, arguments: Dict[str, Any]) -> List[TextContent]:\n",
    "    \"\"\"Execute the requested tool\"\"\"\n",
    "    \n",
    "    if name == \"hello_world\":\n",
    "        name = arguments.get(\"name\", \"there\")\n",
    "        message = f\"Hello {name}! 👋 Welcome to your first MCP server!\"\n",
    "        return [TextContent(type=\"text\", text=message)]\n",
    "    \n",
    "    elif name == \"get_current_time\":\n",
    "        from datetime import datetime\n",
    "        current_time = datetime.now().strftime(\"%Y-%m-%d %H:%M:%S\")\n",
    "        message = f\"🕐 Current time: {current_time}\"\n",
    "        return [TextContent(type=\"text\", text=message)]\n",
    "    \n",
    "    elif name == \"calculate_simple\":\n",
    "        expression = arguments.get(\"expression\", \"\")\n",
    "        try:\n",
    "            # Simple and safe evaluation\n",
    "            allowed_chars = set('0123456789+-*/.() ')\n",
    "            if not all(c in allowed_chars for c in expression):\n",
    "                return [TextContent(type=\"text\", text=\"❌ Error: Only basic math operations allowed\")]\n",
    "            \n",
    "            result = eval(expression)\n",
    "            message = f\"🧮 {expression} = {result}\"\n",
    "            return [TextContent(type=\"text\", text=message)]\n",
    "        except Exception as e:\n",
    "            return [TextContent(type=\"text\", text=f\"❌ Error calculating {expression}: {str(e)}\")]\n",
    "    \n",
    "    else:\n",
    "        return [TextContent(type=\"text\", text=f\"❌ Unknown tool: {name}\")]\n",
    "\n",
    "# ============================================================================\n",
    "# 🚀 SERVER STARTUP\n",
    "# ============================================================================\n",
    "\n",
    "async def main():\n",
    "    \"\"\"Start the MCP server\"\"\"\n",
    "    print(\"🚀 Starting MCP Server...\", file=sys.stderr)\n",
    "    print(\"📋 Available tools:\", file=sys.stderr)\n",
    "    print(\"   - hello_world: Greet the user\", file=sys.stderr)\n",
    "    print(\"   - get_current_time: Get current time\", file=sys.stderr)\n",
    "    print(\"   - calculate_simple: Do math calculations\", file=sys.stderr)\n",
    "    print(\"🔌 Server ready for connections!\", file=sys.stderr)\n",
    "    \n",
    "    # Start the server\n",
    "    async with stdio_server() as (read_stream, write_stream):\n",
    "        await server.run(\n",
    "            read_stream,\n",
    "            write_stream,\n",
    "            InitializationOptions(\n",
    "                server_name=\"workshop-mcp-server\",\n",
    "                server_version=\"1.0.0\",\n",
    "                capabilities=server.get_capabilities(\n",
    "                    notification_options=None,\n",
    "                    experimental_capabilities={}\n",
    "                )\n",
    "            )\n",
    "        )\n",
    "\n",
    "if __name__ == \"__main__\":\n",
    "    asyncio.run(main())\n",
    "'''"
   ]
  },
  {
   "cell_type": "code",
   "execution_count": 11,
   "id": "6b2f7b8b",
   "metadata": {},
   "outputs": [],
   "source": [
    "# Save the MCP server code\n",
    "with open(\"workshop_mcp_server.py\", \"w\") as f:\n",
    "    f.write(mcp_server_code)"
   ]
  },
  {
   "cell_type": "code",
   "execution_count": 12,
   "id": "942ec54e",
   "metadata": {},
   "outputs": [
    {
     "name": "stdout",
     "output_type": "stream",
     "text": [
      "✅ Created workshop_mcp_server.py\n",
      "📋 This server provides 3 simple tools:\n",
      "   - hello_world: Greet the user\n",
      "   - get_current_time: Get current time\n",
      "   - calculate_simple: Do math calculations\n"
     ]
    }
   ],
   "source": [
    "print(\"✅ Created workshop_mcp_server.py\")\n",
    "print(\"📋 This server provides 3 simple tools:\")\n",
    "print(\"   - hello_world: Greet the user\")\n",
    "print(\"   - get_current_time: Get current time\")\n",
    "print(\"   - calculate_simple: Do math calculations\")"
   ]
  },
  {
   "cell_type": "markdown",
   "id": "5f61315c",
   "metadata": {},
   "source": [
    "============================================================================\n",
    "🧪 TESTING YOUR MCP SERVER\n",
    "============================================================================"
   ]
  },
  {
   "cell_type": "code",
   "execution_count": 13,
   "id": "5fc395d5",
   "metadata": {},
   "outputs": [
    {
     "name": "stdout",
     "output_type": "stream",
     "text": [
      "\n",
      "============================================================\n",
      "🧪 Testing Your MCP Server\n",
      "============================================================\n"
     ]
    }
   ],
   "source": [
    "print(\"\\n\" + \"=\" * 60)\n",
    "print(\"🧪 Testing Your MCP Server\")\n",
    "print(\"=\" * 60)"
   ]
  },
  {
   "cell_type": "code",
   "execution_count": 14,
   "id": "30744ef7",
   "metadata": {},
   "outputs": [
    {
     "name": "stdout",
     "output_type": "stream",
     "text": [
      "\n",
      "🧪 To test your MCP server:\n",
      "\n",
      "1. **Start the server** (in a new terminal):\n",
      "   python workshop_mcp_server.py\n",
      "\n",
      "2. **Test with curl** (in another terminal):\n",
      "   curl -X POST http://localhost:8000/call_tool \\\n",
      "        -H \"Content-Type: application/json\" \\\n",
      "        -d '{\"name\": \"hello_world\", \"arguments\": {\"name\": \"Alice\"}}'\n",
      "\n",
      "3. **Or use the MCP client**:\n",
      "   python -c \"\n",
      "   from mcp.client.stdio import stdio_client\n",
      "   import asyncio\n",
      "\n",
      "   async def test():\n",
      "       async with stdio_client(['python', 'workshop_mcp_server.py']) as client:\n",
      "           tools = await client.list_tools()\n",
      "           print('Available tools:', tools)\n",
      "\n",
      "   asyncio.run(test())\n",
      "   \"\n",
      "\n"
     ]
    }
   ],
   "source": [
    "print(\"\"\"\n",
    "🧪 To test your MCP server:\n",
    "\n",
    "1. **Start the server** (in a new terminal):\n",
    "   python workshop_mcp_server.py\n",
    "\n",
    "2. **Test with curl** (in another terminal):\n",
    "   curl -X POST http://localhost:8000/call_tool \\\\\n",
    "        -H \"Content-Type: application/json\" \\\\\n",
    "        -d '{\"name\": \"hello_world\", \"arguments\": {\"name\": \"Alice\"}}'\n",
    "\n",
    "3. **Or use the MCP client**:\n",
    "   python -c \"\n",
    "   from mcp.client.stdio import stdio_client\n",
    "   import asyncio\n",
    "   \n",
    "   async def test():\n",
    "       async with stdio_client(['python', 'workshop_mcp_server.py']) as client:\n",
    "           tools = await client.list_tools()\n",
    "           print('Available tools:', tools)\n",
    "   \n",
    "   asyncio.run(test())\n",
    "   \"\n",
    "\"\"\")"
   ]
  },
  {
   "cell_type": "markdown",
   "id": "2bcf6e19",
   "metadata": {},
   "source": [
    "============================================================================\n",
    "🔌 CONNECTING FROM VS CODE/CURSOR\n",
    "============================================================================"
   ]
  },
  {
   "cell_type": "code",
   "execution_count": 15,
   "id": "4b0cb28c",
   "metadata": {},
   "outputs": [
    {
     "name": "stdout",
     "output_type": "stream",
     "text": [
      "\n",
      "============================================================\n",
      "🔌 Connecting from VS Code/Cursor\n",
      "============================================================\n"
     ]
    }
   ],
   "source": [
    "print(\"\\n\" + \"=\" * 60)\n",
    "print(\"🔌 Connecting from VS Code/Cursor\")\n",
    "print(\"=\" * 60)"
   ]
  },
  {
   "cell_type": "code",
   "execution_count": 16,
   "id": "0f1466af",
   "metadata": {},
   "outputs": [
    {
     "name": "stdout",
     "output_type": "stream",
     "text": [
      "\n",
      "🔌 To connect your MCP server to VS Code/Cursor:\n",
      "\n",
      "1. **Install MCP Extension**:\n",
      "   - VS Code: Search for \"MCP\" in extensions\n",
      "   - Cursor: Should have MCP support built-in\n",
      "\n",
      "2. **Configure MCP Client**:\n",
      "   Create ~/.config/mcp/clients.json:\n",
      "   {\n",
      "     \"workshop-server\": {\n",
      "       \"command\": \"python\",\n",
      "       \"args\": [\"/path/to/your/workshop_mcp_server.py\"],\n",
      "       \"env\": {}\n",
      "     }\n",
      "   }\n",
      "\n",
      "3. **Restart VS Code/Cursor**:\n",
      "   - The MCP server should now be available\n",
      "   - You can ask the AI to use your custom tools!\n",
      "\n",
      "4. **Test the Connection**:\n",
      "   Ask: \"What time is it?\" or \"Calculate 15 * 3\"\n",
      "   The AI should use your MCP server tools!\n",
      "\n"
     ]
    }
   ],
   "source": [
    "print(\"\"\"\n",
    "🔌 To connect your MCP server to VS Code/Cursor:\n",
    "\n",
    "1. **Install MCP Extension**:\n",
    "   - VS Code: Search for \"MCP\" in extensions\n",
    "   - Cursor: Should have MCP support built-in\n",
    "\n",
    "2. **Configure MCP Client**:\n",
    "   Create ~/.config/mcp/clients.json:\n",
    "   {\n",
    "     \"workshop-server\": {\n",
    "       \"command\": \"python\",\n",
    "       \"args\": [\"/path/to/your/workshop_mcp_server.py\"],\n",
    "       \"env\": {}\n",
    "     }\n",
    "   }\n",
    "\n",
    "3. **Restart VS Code/Cursor**:\n",
    "   - The MCP server should now be available\n",
    "   - You can ask the AI to use your custom tools!\n",
    "\n",
    "4. **Test the Connection**:\n",
    "   Ask: \"What time is it?\" or \"Calculate 15 * 3\"\n",
    "   The AI should use your MCP server tools!\n",
    "\"\"\")"
   ]
  },
  {
   "cell_type": "markdown",
   "id": "748947c8",
   "metadata": {},
   "source": [
    "============================================================================\n",
    "🎯 HANDS-ON EXERCISE\n",
    "============================================================================"
   ]
  },
  {
   "cell_type": "code",
   "execution_count": 17,
   "id": "9b5d154b",
   "metadata": {},
   "outputs": [
    {
     "name": "stdout",
     "output_type": "stream",
     "text": [
      "\n",
      "============================================================\n",
      "🎯 HANDS-ON EXERCISE\n",
      "============================================================\n"
     ]
    }
   ],
   "source": [
    "print(\"\\n\" + \"=\" * 60)\n",
    "print(\"🎯 HANDS-ON EXERCISE\")\n",
    "print(\"=\" * 60)"
   ]
  },
  {
   "cell_type": "code",
   "execution_count": 18,
   "id": "f894f9af",
   "metadata": {},
   "outputs": [
    {
     "name": "stdout",
     "output_type": "stream",
     "text": [
      "\n",
      "🎯 Your Turn! Try these exercises:\n",
      "\n",
      "1. **Run Your Server**:\n",
      "   - Start the MCP server in a terminal\n",
      "   - Test it with simple requests\n",
      "   - Make sure it responds correctly\n",
      "\n",
      "2. **Add a New Tool**:\n",
      "   - Create a tool that returns random facts\n",
      "   - Add a tool that converts temperatures\n",
      "   - Build a tool that gives motivational quotes\n",
      "\n",
      "3. **Connect to VS Code/Cursor**:\n",
      "   - Set up the MCP client configuration\n",
      "   - Restart your editor\n",
      "   - Ask the AI to use your tools\n",
      "\n",
      "4. **Debug and Improve**:\n",
      "   - Add error handling to your tools\n",
      "   - Improve the tool descriptions\n",
      "   - Add input validation\n",
      "\n",
      "💡 Tips:\n",
      "- Start simple and build up\n",
      "- Test each tool individually\n",
      "- Check the MCP documentation for more features\n",
      "- Don't worry about perfection - focus on learning!\n",
      "\n"
     ]
    }
   ],
   "source": [
    "print(\"\"\"\n",
    "🎯 Your Turn! Try these exercises:\n",
    "\n",
    "1. **Run Your Server**:\n",
    "   - Start the MCP server in a terminal\n",
    "   - Test it with simple requests\n",
    "   - Make sure it responds correctly\n",
    "\n",
    "2. **Add a New Tool**:\n",
    "   - Create a tool that returns random facts\n",
    "   - Add a tool that converts temperatures\n",
    "   - Build a tool that gives motivational quotes\n",
    "\n",
    "3. **Connect to VS Code/Cursor**:\n",
    "   - Set up the MCP client configuration\n",
    "   - Restart your editor\n",
    "   - Ask the AI to use your tools\n",
    "\n",
    "4. **Debug and Improve**:\n",
    "   - Add error handling to your tools\n",
    "   - Improve the tool descriptions\n",
    "   - Add input validation\n",
    "\n",
    "💡 Tips:\n",
    "- Start simple and build up\n",
    "- Test each tool individually\n",
    "- Check the MCP documentation for more features\n",
    "- Don't worry about perfection - focus on learning!\n",
    "\"\"\")"
   ]
  },
  {
   "cell_type": "markdown",
   "id": "799a26ad",
   "metadata": {},
   "source": [
    "============================================================================\n",
    "🔍 ADVANCED MCP FEATURES\n",
    "============================================================================"
   ]
  },
  {
   "cell_type": "code",
   "execution_count": 19,
   "id": "4dadff28",
   "metadata": {},
   "outputs": [
    {
     "name": "stdout",
     "output_type": "stream",
     "text": [
      "\n",
      "============================================================\n",
      "🔍 Advanced MCP Features\n",
      "============================================================\n"
     ]
    }
   ],
   "source": [
    "print(\"\\n\" + \"=\" * 60)\n",
    "print(\"🔍 Advanced MCP Features\")\n",
    "print(\"=\" * 60)"
   ]
  },
  {
   "cell_type": "code",
   "execution_count": 20,
   "id": "d6bf370e",
   "metadata": {},
   "outputs": [
    {
     "name": "stdout",
     "output_type": "stream",
     "text": [
      "\n",
      "🔍 Once you're comfortable with basics, explore:\n",
      "\n",
      "1. **Resources**: Provide access to files, databases, APIs\n",
      "2. **Prompts**: Create reusable prompt templates\n",
      "3. **Logging**: Add structured logging to your server\n",
      "4. **Authentication**: Secure your server with proper auth\n",
      "5. **Streaming**: Handle long-running operations\n",
      "6. **Error Handling**: Graceful error handling and recovery\n",
      "\n",
      "🚀 **Real-World Examples**:\n",
      "- File system access (read/write files)\n",
      "- Database queries (SQL, NoSQL)\n",
      "- API integrations (weather, news, etc.)\n",
      "- System monitoring (CPU, memory, processes)\n",
      "- Custom business logic tools\n",
      "\n"
     ]
    }
   ],
   "source": [
    "print(\"\"\"\n",
    "🔍 Once you're comfortable with basics, explore:\n",
    "\n",
    "1. **Resources**: Provide access to files, databases, APIs\n",
    "2. **Prompts**: Create reusable prompt templates\n",
    "3. **Logging**: Add structured logging to your server\n",
    "4. **Authentication**: Secure your server with proper auth\n",
    "5. **Streaming**: Handle long-running operations\n",
    "6. **Error Handling**: Graceful error handling and recovery\n",
    "\n",
    "🚀 **Real-World Examples**:\n",
    "- File system access (read/write files)\n",
    "- Database queries (SQL, NoSQL)\n",
    "- API integrations (weather, news, etc.)\n",
    "- System monitoring (CPU, memory, processes)\n",
    "- Custom business logic tools\n",
    "\"\"\")"
   ]
  },
  {
   "cell_type": "markdown",
   "id": "bb5ead3f",
   "metadata": {},
   "source": [
    "============================================================================\n",
    "📝 SUMMARY\n",
    "============================================================================"
   ]
  },
  {
   "cell_type": "code",
   "execution_count": 21,
   "id": "e62a7e0e",
   "metadata": {},
   "outputs": [
    {
     "name": "stdout",
     "output_type": "stream",
     "text": [
      "\n",
      "============================================================\n",
      "📝 PART 3 SUMMARY\n",
      "============================================================\n"
     ]
    }
   ],
   "source": [
    "print(\"\\n\" + \"=\" * 60)\n",
    "print(\"📝 PART 3 SUMMARY\")\n",
    "print(\"=\" * 60)"
   ]
  },
  {
   "cell_type": "code",
   "execution_count": 22,
   "id": "869cedfd",
   "metadata": {},
   "outputs": [
    {
     "name": "stdout",
     "output_type": "stream",
     "text": [
      "\n",
      "✅ What We Accomplished:\n",
      "- Learned what MCP is and why it's useful\n",
      "- Created a simple MCP server with 3 tools\n",
      "- Understood how to connect from VS Code/Cursor\n",
      "- Explored advanced MCP capabilities\n",
      "\n",
      "🔑 Key Concepts:\n",
      "- MCP Server: Provides tools and resources\n",
      "- MCP Client: Connects to servers (VS Code, etc.)\n",
      "- Tools: Functions the AI can call\n",
      "- Resources: Data the AI can access\n",
      "\n",
      "🚀 Next Steps:\n",
      "- Run your server and test it\n",
      "- Connect it to VS Code/Cursor\n",
      "- Build more sophisticated tools\n",
      "- Explore the MCP ecosystem\n",
      "\n"
     ]
    }
   ],
   "source": [
    "print(\"\"\"\n",
    "✅ What We Accomplished:\n",
    "- Learned what MCP is and why it's useful\n",
    "- Created a simple MCP server with 3 tools\n",
    "- Understood how to connect from VS Code/Cursor\n",
    "- Explored advanced MCP capabilities\n",
    "\n",
    "🔑 Key Concepts:\n",
    "- MCP Server: Provides tools and resources\n",
    "- MCP Client: Connects to servers (VS Code, etc.)\n",
    "- Tools: Functions the AI can call\n",
    "- Resources: Data the AI can access\n",
    "\n",
    "🚀 Next Steps:\n",
    "- Run your server and test it\n",
    "- Connect it to VS Code/Cursor\n",
    "- Build more sophisticated tools\n",
    "- Explore the MCP ecosystem\n",
    "\"\"\")"
   ]
  },
  {
   "cell_type": "code",
   "execution_count": 23,
   "id": "cfd2f14f",
   "metadata": {},
   "outputs": [
    {
     "name": "stdout",
     "output_type": "stream",
     "text": [
      "\n",
      "🎉 Part 3 Complete! You now have a working MCP server!\n",
      "\n",
      "🌟 **WORKSHOP COMPLETE!** 🌟\n",
      "You've learned LLM basics, agents, and MCP servers!\n",
      "Time to build something amazing! 🚀\n"
     ]
    }
   ],
   "source": [
    "print(\"\\n🎉 Part 3 Complete! You now have a working MCP server!\")\n",
    "print(\"\\n🌟 **WORKSHOP COMPLETE!** 🌟\")\n",
    "print(\"You've learned LLM basics, agents, and MCP servers!\")\n",
    "print(\"Time to build something amazing! 🚀\")"
   ]
  }
 ],
 "metadata": {
  "jupytext": {
   "cell_metadata_filter": "-all",
   "executable": "/usr/bin/env python3",
   "main_language": "python",
   "notebook_metadata_filter": "-all"
  },
  "kernelspec": {
   "display_name": "llm_workshop_env",
   "language": "python",
   "name": "python3"
  },
  "language_info": {
   "codemirror_mode": {
    "name": "ipython",
    "version": 3
   },
   "file_extension": ".py",
   "mimetype": "text/x-python",
   "name": "python",
   "nbconvert_exporter": "python",
   "pygments_lexer": "ipython3",
   "version": "3.13.2"
  }
 },
 "nbformat": 4,
 "nbformat_minor": 5
}
