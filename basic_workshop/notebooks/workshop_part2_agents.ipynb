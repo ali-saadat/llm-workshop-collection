{
 "cells": [
  {
   "cell_type": "code",
   "execution_count": 1,
   "id": "84a163fe",
   "metadata": {},
   "outputs": [
    {
     "data": {
      "text/plain": [
       "\"\\n🚀 LLM Workshop: Part 2 - LLM Agents with LangChain\\nDuration: ~45 minutes\\nLevel: Beginner\\n\\nIMPORTANT: Make sure your virtual environment is activated!\\nIf you haven't set up the environment yet, run: python3 workshop_setup.py\\n\""
      ]
     },
     "execution_count": 1,
     "metadata": {},
     "output_type": "execute_result"
    }
   ],
   "source": [
    "\"\"\"\n",
    "🚀 LLM Workshop: Part 2 - LLM Agents with LangChain\n",
    "Duration: ~45 minutes\n",
    "Level: Beginner\n",
    "\n",
    "IMPORTANT: Make sure your virtual environment is activated!\n",
    "If you haven't set up the environment yet, run: python3 workshop_setup.py\n",
    "\"\"\""
   ]
  },
  {
   "cell_type": "code",
   "execution_count": 2,
   "id": "aa05cf2c",
   "metadata": {},
   "outputs": [],
   "source": [
    "import os\n",
    "import json\n",
    "from typing import List, Dict, Any\n",
    "from langchain.agents import initialize_agent, AgentType, Tool\n",
    "from langchain.tools import BaseTool\n",
    "from langchain_openai import ChatOpenAI\n",
    "from langchain.schema import HumanMessage, AIMessage\n",
    "from langchain.memory import ConversationBufferMemory"
   ]
  },
  {
   "cell_type": "markdown",
   "id": "f2a8c16e",
   "metadata": {},
   "source": [
    "============================================================================\n",
    "🔧 SECTION 2: LLM AGENTS WITH LANGCHAIN\n",
    "============================================================================"
   ]
  },
  {
   "cell_type": "code",
   "execution_count": 3,
   "id": "07be4ebf",
   "metadata": {},
   "outputs": [
    {
     "name": "stdout",
     "output_type": "stream",
     "text": [
      "🎯 LLM WORKSHOP - PART 2: LLM Agents with LangChain\n",
      "============================================================\n"
     ]
    }
   ],
   "source": [
    "print(\"🎯 LLM WORKSHOP - PART 2: LLM Agents with LangChain\")\n",
    "print(\"=\" * 60)"
   ]
  },
  {
   "cell_type": "markdown",
   "id": "ee654c5d",
   "metadata": {},
   "source": [
    "============================================================================\n",
    "🛠️ CUSTOM TOOLS FOR OUR AGENT\n",
    "============================================================================"
   ]
  },
  {
   "cell_type": "code",
   "execution_count": 4,
   "id": "a8772f2f",
   "metadata": {
    "lines_to_next_cell": 1
   },
   "outputs": [
    {
     "name": "stdout",
     "output_type": "stream",
     "text": [
      "🛠️ Creating Custom Tools for Our Agent\n",
      "----------------------------------------\n"
     ]
    }
   ],
   "source": [
    "print(\"🛠️ Creating Custom Tools for Our Agent\")\n",
    "print(\"-\" * 40)"
   ]
  },
  {
   "cell_type": "code",
   "execution_count": 5,
   "id": "9c5f92b7",
   "metadata": {
    "lines_to_next_cell": 1
   },
   "outputs": [],
   "source": [
    "class CalculatorTool(BaseTool):\n",
    "    \"\"\"Simple calculator tool for the agent\"\"\"\n",
    "    name: str = \"calculator\"\n",
    "    description: str = \"Useful for doing math calculations. Input should be a mathematical expression like '2 + 2' or '10 * 5'\"\n",
    "    \n",
    "    def _run(self, query: str) -> str:\n",
    "        \"\"\"Execute the calculation\"\"\"\n",
    "        try:\n",
    "            # Simple and safe evaluation - only basic math operations\n",
    "            allowed_chars = set('0123456789+-*/.() ')\n",
    "            if not all(c in allowed_chars for c in query):\n",
    "                return \"Error: Only basic math operations (+, -, *, /, .) and numbers are allowed\"\n",
    "            \n",
    "            result = eval(query)\n",
    "            return f\"Result: {result}\"\n",
    "        except Exception as e:\n",
    "            return f\"Error calculating {query}: {str(e)}\""
   ]
  },
  {
   "cell_type": "code",
   "execution_count": 6,
   "id": "a7fbbf92",
   "metadata": {
    "lines_to_next_cell": 1
   },
   "outputs": [],
   "source": [
    "class WeatherTool(BaseTool):\n",
    "    \"\"\"Mock weather tool for demonstration\"\"\"\n",
    "    name: str = \"weather\"\n",
    "    description: str = \"Get weather information for a city. Input should be a city name like 'London' or 'New York'\"\n",
    "    \n",
    "    def _run(self, city: str) -> str:\n",
    "        \"\"\"Mock weather response\"\"\"\n",
    "        # In a real scenario, this would call a weather API\n",
    "        weather_data = {\n",
    "            \"London\": \"🌧️ Cloudy with rain, 15°C\",\n",
    "            \"New York\": \"☀️ Sunny, 22°C\", \n",
    "            \"Tokyo\": \"⛅ Partly cloudy, 18°C\",\n",
    "            \"Sydney\": \"🌤️ Mostly sunny, 25°C\"\n",
    "        }\n",
    "        \n",
    "        if city in weather_data:\n",
    "            return f\"Weather in {city}: {weather_data[city]}\"\n",
    "        else:\n",
    "            return f\"Weather for {city}: ☀️ Nice weather, 20°C (mock data)\""
   ]
  },
  {
   "cell_type": "code",
   "execution_count": 7,
   "id": "3374cda1",
   "metadata": {
    "lines_to_next_cell": 1
   },
   "outputs": [],
   "source": [
    "class TimeTool(BaseTool):\n",
    "    \"\"\"Simple time tool\"\"\"\n",
    "    name: str = \"get_time\"\n",
    "    description: str = \"Get the current time. No input needed.\"\n",
    "    \n",
    "    def _run(self, query: str = \"\") -> str:\n",
    "        \"\"\"Get current time\"\"\"\n",
    "        from datetime import datetime\n",
    "        current_time = datetime.now().strftime(\"%H:%M:%S\")\n",
    "        return f\"Current time: {current_time}\""
   ]
  },
  {
   "cell_type": "code",
   "execution_count": 8,
   "id": "4446e158",
   "metadata": {},
   "outputs": [],
   "source": [
    "# Create our tools\n",
    "tools = [\n",
    "    CalculatorTool(),\n",
    "    WeatherTool(),\n",
    "    TimeTool()\n",
    "]"
   ]
  },
  {
   "cell_type": "code",
   "execution_count": 9,
   "id": "6e1e427a",
   "metadata": {},
   "outputs": [
    {
     "name": "stdout",
     "output_type": "stream",
     "text": [
      "✅ Created 3 custom tools:\n",
      "   - calculator: Useful for doing math calculations. Input should be a mathematical expression like '2 + 2' or '10 * 5'\n",
      "   - weather: Get weather information for a city. Input should be a city name like 'London' or 'New York'\n",
      "   - get_time: Get the current time. No input needed.\n"
     ]
    }
   ],
   "source": [
    "print(\"✅ Created 3 custom tools:\")\n",
    "for tool in tools:\n",
    "    print(f\"   - {tool.name}: {tool.description}\")"
   ]
  },
  {
   "cell_type": "markdown",
   "id": "f1baa4c3",
   "metadata": {},
   "source": [
    "============================================================================\n",
    "🤖 AGENT 1: TOOL-CALLING AGENT\n",
    "============================================================================"
   ]
  },
  {
   "cell_type": "code",
   "execution_count": 10,
   "id": "95c0186c",
   "metadata": {},
   "outputs": [
    {
     "name": "stdout",
     "output_type": "stream",
     "text": [
      "\n",
      "============================================================\n",
      "🤖 AGENT 1: Tool-Calling Agent\n",
      "============================================================\n"
     ]
    }
   ],
   "source": [
    "print(\"\\n\" + \"=\" * 60)\n",
    "print(\"🤖 AGENT 1: Tool-Calling Agent\")\n",
    "print(\"=\" * 60)"
   ]
  },
  {
   "cell_type": "code",
   "execution_count": 11,
   "id": "481a3f91",
   "metadata": {},
   "outputs": [],
   "source": [
    "# Configure the LLM (using your endpoint)\n",
    "llm = ChatOpenAI(\n",
    "    openai_api_base=\"https://yylh5vmmm0.execute-api.eu-central-1.amazonaws.com/prod\",\n",
    "    openai_api_key=\"ALI-CLASS-2025\",\n",
    "    model_name=\"gpt-3.5-turbo\",\n",
    "    temperature=0.1\n",
    ")"
   ]
  },
  {
   "cell_type": "code",
   "execution_count": 12,
   "id": "4abf117d",
   "metadata": {},
   "outputs": [
    {
     "name": "stderr",
     "output_type": "stream",
     "text": [
      "/var/folders/fb/ch_tc8957l76wglzsjy7b_hh0000gn/T/ipykernel_19456/1818075595.py:2: LangChainDeprecationWarning: LangChain agents will continue to be supported, but it is recommended for new use cases to be built with LangGraph. LangGraph offers a more flexible and full-featured framework for building agents, including support for tool-calling, persistence of state, and human-in-the-loop workflows. For details, refer to the `LangGraph documentation <https://langchain-ai.github.io/langgraph/>`_ as well as guides for `Migrating from AgentExecutor <https://python.langchain.com/docs/how_to/migrate_agent/>`_ and LangGraph's `Pre-built ReAct agent <https://langchain-ai.github.io/langgraph/how-tos/create-react-agent/>`_.\n",
      "  agent = initialize_agent(\n"
     ]
    }
   ],
   "source": [
    "# Initialize the agent\n",
    "agent = initialize_agent(\n",
    "    tools=tools,\n",
    "    llm=llm,\n",
    "    agent=AgentType.ZERO_SHOT_REACT_DESCRIPTION,\n",
    "    verbose=True,\n",
    "    handle_parsing_errors=True\n",
    ")"
   ]
  },
  {
   "cell_type": "code",
   "execution_count": 13,
   "id": "fa1ab612",
   "metadata": {},
   "outputs": [
    {
     "name": "stdout",
     "output_type": "stream",
     "text": [
      "✅ Agent initialized with tools!\n",
      "🤖 Testing tool calling capabilities...\n"
     ]
    }
   ],
   "source": [
    "print(\"✅ Agent initialized with tools!\")\n",
    "print(\"🤖 Testing tool calling capabilities...\")"
   ]
  },
  {
   "cell_type": "code",
   "execution_count": 14,
   "id": "6ee1f173",
   "metadata": {},
   "outputs": [
    {
     "name": "stdout",
     "output_type": "stream",
     "text": [
      "\n",
      "🧮 Test 1: Math Calculation\n",
      "\n",
      "\n",
      "\u001b[1m> Entering new AgentExecutor chain...\u001b[0m\n"
     ]
    },
    {
     "name": "stderr",
     "output_type": "stream",
     "text": [
      "/var/folders/fb/ch_tc8957l76wglzsjy7b_hh0000gn/T/ipykernel_19456/3480857863.py:4: LangChainDeprecationWarning: The method `Chain.run` was deprecated in langchain 0.1.0 and will be removed in 1.0. Use :meth:`~invoke` instead.\n",
      "  response1 = agent.run(\"What is 15 * 8 + 3?\")\n"
     ]
    },
    {
     "name": "stdout",
     "output_type": "stream",
     "text": [
      "Error: Error code: 404 - {'error': {'message': 'No route for POST /prod/chat/completions'}}\n"
     ]
    }
   ],
   "source": [
    "# Test 1: Math calculation\n",
    "print(\"\\n🧮 Test 1: Math Calculation\")\n",
    "try:\n",
    "    response1 = agent.run(\"What is 15 * 8 + 3?\")\n",
    "    print(f\"Agent Response: {response1}\")\n",
    "except Exception as e:\n",
    "    print(f\"Error: {e}\")"
   ]
  },
  {
   "cell_type": "code",
   "execution_count": 15,
   "id": "ad9d7b5e",
   "metadata": {},
   "outputs": [
    {
     "name": "stdout",
     "output_type": "stream",
     "text": [
      "\n",
      "🌤️ Test 2: Weather Information\n",
      "\n",
      "\n",
      "\u001b[1m> Entering new AgentExecutor chain...\u001b[0m\n",
      "Error: Error code: 404 - {'error': {'message': 'No route for POST /prod/chat/completions'}}\n"
     ]
    }
   ],
   "source": [
    "# Test 2: Weather information\n",
    "print(\"\\n🌤️ Test 2: Weather Information\")\n",
    "try:\n",
    "    response2 = agent.run(\"What's the weather like in London?\")\n",
    "    print(f\"Agent Response: {response2}\")\n",
    "except Exception as e:\n",
    "    print(f\"Error: {e}\")"
   ]
  },
  {
   "cell_type": "code",
   "execution_count": 16,
   "id": "008c29ac",
   "metadata": {},
   "outputs": [
    {
     "name": "stdout",
     "output_type": "stream",
     "text": [
      "\n",
      "⏰ Test 3: Time Request\n",
      "\n",
      "\n",
      "\u001b[1m> Entering new AgentExecutor chain...\u001b[0m\n",
      "Error: Error code: 404 - {'error': {'message': 'No route for POST /prod/chat/completions'}}\n"
     ]
    }
   ],
   "source": [
    "# Test 3: Time request\n",
    "print(\"\\n⏰ Test 3: Time Request\")\n",
    "try:\n",
    "    response3 = agent.run(\"What time is it right now?\")\n",
    "    print(f\"Agent Response: {response3}\")\n",
    "except Exception as e:\n",
    "    print(f\"Error: {e}\")"
   ]
  },
  {
   "cell_type": "markdown",
   "id": "d19109bc",
   "metadata": {},
   "source": [
    "============================================================================\n",
    "🤖 AGENT 2: CONVERSATIONAL AGENT WITH MEMORY\n",
    "============================================================================"
   ]
  },
  {
   "cell_type": "code",
   "execution_count": 17,
   "id": "50617fbe",
   "metadata": {},
   "outputs": [
    {
     "name": "stdout",
     "output_type": "stream",
     "text": [
      "\n",
      "============================================================\n",
      "🤖 AGENT 2: Conversational Agent with Memory\n",
      "============================================================\n"
     ]
    }
   ],
   "source": [
    "print(\"\\n\" + \"=\" * 60)\n",
    "print(\"🤖 AGENT 2: Conversational Agent with Memory\")\n",
    "print(\"=\" * 60)"
   ]
  },
  {
   "cell_type": "code",
   "execution_count": 18,
   "id": "9507f883",
   "metadata": {},
   "outputs": [
    {
     "name": "stderr",
     "output_type": "stream",
     "text": [
      "/var/folders/fb/ch_tc8957l76wglzsjy7b_hh0000gn/T/ipykernel_19456/3835258885.py:2: LangChainDeprecationWarning: Please see the migration guide at: https://python.langchain.com/docs/versions/migrating_memory/\n",
      "  memory = ConversationBufferMemory(\n"
     ]
    }
   ],
   "source": [
    "# Create a memory component\n",
    "memory = ConversationBufferMemory(\n",
    "    memory_key=\"chat_history\",\n",
    "    return_messages=True\n",
    ")"
   ]
  },
  {
   "cell_type": "code",
   "execution_count": 19,
   "id": "9e3f3169",
   "metadata": {},
   "outputs": [],
   "source": [
    "# Create a conversational agent\n",
    "conversational_agent = initialize_agent(\n",
    "    tools=tools,\n",
    "    llm=llm,\n",
    "    agent=AgentType.CONVERSATIONAL_REACT_DESCRIPTION,\n",
    "    verbose=True,\n",
    "    memory=memory,\n",
    "    handle_parsing_errors=True\n",
    ")"
   ]
  },
  {
   "cell_type": "code",
   "execution_count": 20,
   "id": "4de56f5d",
   "metadata": {},
   "outputs": [
    {
     "name": "stdout",
     "output_type": "stream",
     "text": [
      "✅ Conversational agent with memory initialized!\n",
      "💬 Testing conversation flow...\n"
     ]
    }
   ],
   "source": [
    "print(\"✅ Conversational agent with memory initialized!\")\n",
    "print(\"💬 Testing conversation flow...\")"
   ]
  },
  {
   "cell_type": "code",
   "execution_count": 21,
   "id": "6f3b767a",
   "metadata": {},
   "outputs": [
    {
     "name": "stdout",
     "output_type": "stream",
     "text": [
      "\n",
      "💬 Starting conversation...\n"
     ]
    }
   ],
   "source": [
    "# Start a conversation\n",
    "print(\"\\n💬 Starting conversation...\")"
   ]
  },
  {
   "cell_type": "code",
   "execution_count": 23,
   "id": "f48d6992",
   "metadata": {},
   "outputs": [
    {
     "name": "stdout",
     "output_type": "stream",
     "text": [
      "\n",
      "\n",
      "\u001b[1m> Entering new AgentExecutor chain...\u001b[0m\n",
      "Error in conversation: Error code: 404 - {'error': {'message': 'No route for POST /prod/chat/completions'}}\n"
     ]
    }
   ],
   "source": [
    "try:\n",
    "    # First message\n",
    "    response1 = conversational_agent.run(\"Hi! I'm planning a trip. Can you help me?\")\n",
    "    print(f\"🤖 Agent: {response1}\")\n",
    "    \n",
    "    # Second message (agent should remember context)\n",
    "    response2 = conversational_agent.run(\"What's the weather like in Tokyo?\")\n",
    "    print(f\"🤖 Agent: {response2}\")\n",
    "    \n",
    "    # Third message (testing memory)\n",
    "    response3 = conversational_agent.run(\"And what about the weather in London?\")\n",
    "    print(f\"🤖 Agent: {response3}\")\n",
    "    \n",
    "    # Fourth message (testing tool combination)\n",
    "    response4 = conversational_agent.run(\"If I have 500 dollars and spend 120 on flights, how much do I have left?\")\n",
    "    print(f\"🤖 Agent: {response4}\")\n",
    "except Exception as e:\n",
    "    print(f\"Error in conversation: {e}\")"
   ]
  },
  {
   "cell_type": "markdown",
   "id": "b892c324",
   "metadata": {},
   "source": [
    "============================================================================\n",
    "🎯 HANDS-ON EXERCISE\n",
    "============================================================================"
   ]
  },
  {
   "cell_type": "code",
   "execution_count": 24,
   "id": "78f54e28",
   "metadata": {},
   "outputs": [
    {
     "name": "stdout",
     "output_type": "stream",
     "text": [
      "\n",
      "============================================================\n",
      "🎯 HANDS-ON EXERCISE\n",
      "============================================================\n"
     ]
    }
   ],
   "source": [
    "print(\"\\n\" + \"=\" * 60)\n",
    "print(\"🎯 HANDS-ON EXERCISE\")\n",
    "print(\"=\" * 60)"
   ]
  },
  {
   "cell_type": "code",
   "execution_count": 25,
   "id": "931ff269",
   "metadata": {},
   "outputs": [
    {
     "name": "stdout",
     "output_type": "stream",
     "text": [
      "\n",
      "🎯 Your Turn! Try these exercises:\n",
      "\n",
      "1. **Tool Testing**: Ask the agent to use different tools\n",
      "   - \"Calculate 25 * 4 / 2\"\n",
      "   - \"What's the weather in Sydney?\"\n",
      "   - \"What time is it?\"\n",
      "\n",
      "2. **Multi-Step Tasks**: Give the agent complex requests\n",
      "   - \"If I have $1000 and spend $300 on a hotel, $150 on food, how much do I have left?\"\n",
      "   - \"What's the weather in New York and what time is it there?\"\n",
      "\n",
      "3. **Conversation Flow**: Have a natural conversation\n",
      "   - Ask about planning a weekend trip\n",
      "   - Request calculations for a budget\n",
      "   - Ask about weather in different cities\n",
      "\n",
      "4. **Custom Tool**: Try creating your own simple tool\n",
      "   - A tool that returns random facts\n",
      "   - A tool that converts units\n",
      "   - A tool that gives motivational quotes\n",
      "\n",
      "💡 Tips:\n",
      "- Be specific in your requests\n",
      "- Let the agent use multiple tools when needed\n",
      "- Watch how it reasons through complex tasks\n",
      "- Don't worry if it makes mistakes - this is learning!\n",
      "\n"
     ]
    }
   ],
   "source": [
    "print(\"\"\"\n",
    "🎯 Your Turn! Try these exercises:\n",
    "\n",
    "1. **Tool Testing**: Ask the agent to use different tools\n",
    "   - \"Calculate 25 * 4 / 2\"\n",
    "   - \"What's the weather in Sydney?\"\n",
    "   - \"What time is it?\"\n",
    "\n",
    "2. **Multi-Step Tasks**: Give the agent complex requests\n",
    "   - \"If I have $1000 and spend $300 on a hotel, $150 on food, how much do I have left?\"\n",
    "   - \"What's the weather in New York and what time is it there?\"\n",
    "\n",
    "3. **Conversation Flow**: Have a natural conversation\n",
    "   - Ask about planning a weekend trip\n",
    "   - Request calculations for a budget\n",
    "   - Ask about weather in different cities\n",
    "\n",
    "4. **Custom Tool**: Try creating your own simple tool\n",
    "   - A tool that returns random facts\n",
    "   - A tool that converts units\n",
    "   - A tool that gives motivational quotes\n",
    "\n",
    "💡 Tips:\n",
    "- Be specific in your requests\n",
    "- Let the agent use multiple tools when needed\n",
    "- Watch how it reasons through complex tasks\n",
    "- Don't worry if it makes mistakes - this is learning!\n",
    "\"\"\")"
   ]
  },
  {
   "cell_type": "markdown",
   "id": "60f0ff52",
   "metadata": {},
   "source": [
    "============================================================================\n",
    "🔍 AGENT REASONING DEMONSTRATION\n",
    "============================================================================"
   ]
  },
  {
   "cell_type": "code",
   "execution_count": 26,
   "id": "13c31812",
   "metadata": {},
   "outputs": [
    {
     "name": "stdout",
     "output_type": "stream",
     "text": [
      "\n",
      "============================================================\n",
      "🔍 Agent Reasoning Demonstration\n",
      "============================================================\n"
     ]
    }
   ],
   "source": [
    "print(\"\\n\" + \"=\" * 60)\n",
    "print(\"🔍 Agent Reasoning Demonstration\")\n",
    "print(\"=\" * 60)"
   ]
  },
  {
   "cell_type": "code",
   "execution_count": 27,
   "id": "a5fa755a",
   "metadata": {},
   "outputs": [
    {
     "name": "stdout",
     "output_type": "stream",
     "text": [
      "\n",
      "🔍 Let's see how the agent thinks through a complex task:\n",
      "\n",
      "Task: \"I have $500 and want to plan a weekend trip. \n",
      "I need to spend $200 on accommodation, $100 on food, \n",
      "and I want to know how much I'll have left for activities.\"\n",
      "\n",
      "The agent should:\n",
      "1. Use the calculator to subtract expenses: $500 - $200 - $100\n",
      "2. Give you the remaining budget\n",
      "3. Suggest what you could do with the remaining money\n",
      "\n",
      "This shows the agent's ability to:\n",
      "- Break down complex requests\n",
      "- Use multiple tools\n",
      "- Provide helpful, contextual responses\n",
      "\n"
     ]
    }
   ],
   "source": [
    "print(\"\"\"\n",
    "🔍 Let's see how the agent thinks through a complex task:\n",
    "\n",
    "Task: \"I have $500 and want to plan a weekend trip. \n",
    "I need to spend $200 on accommodation, $100 on food, \n",
    "and I want to know how much I'll have left for activities.\"\n",
    "\n",
    "The agent should:\n",
    "1. Use the calculator to subtract expenses: $500 - $200 - $100\n",
    "2. Give you the remaining budget\n",
    "3. Suggest what you could do with the remaining money\n",
    "\n",
    "This shows the agent's ability to:\n",
    "- Break down complex requests\n",
    "- Use multiple tools\n",
    "- Provide helpful, contextual responses\n",
    "\"\"\")"
   ]
  },
  {
   "cell_type": "code",
   "execution_count": 28,
   "id": "3a7f1d30",
   "metadata": {},
   "outputs": [
    {
     "name": "stdout",
     "output_type": "stream",
     "text": [
      "\n",
      "🧪 Testing Complex Task...\n",
      "\n",
      "\n",
      "\u001b[1m> Entering new AgentExecutor chain...\u001b[0m\n",
      "Error: Error code: 404 - {'error': {'message': 'No route for POST /prod/chat/completions'}}\n"
     ]
    }
   ],
   "source": [
    "# Test the complex task\n",
    "print(\"\\n🧪 Testing Complex Task...\")\n",
    "try:\n",
    "    complex_response = conversational_agent.run(\n",
    "        \"I have $500 and want to plan a weekend trip. \"\n",
    "        \"I need to spend $200 on accommodation, $100 on food, \"\n",
    "        \"and I want to know how much I'll have left for activities.\"\n",
    "    )\n",
    "    print(f\"🤖 Agent Response: {complex_response}\")\n",
    "except Exception as e:\n",
    "    print(f\"Error: {e}\")"
   ]
  },
  {
   "cell_type": "markdown",
   "id": "260ceda7",
   "metadata": {},
   "source": [
    "============================================================================\n",
    "📝 SUMMARY\n",
    "============================================================================"
   ]
  },
  {
   "cell_type": "code",
   "execution_count": 29,
   "id": "309ef49c",
   "metadata": {},
   "outputs": [
    {
     "name": "stdout",
     "output_type": "stream",
     "text": [
      "\n",
      "============================================================\n",
      "📝 PART 2 SUMMARY\n",
      "============================================================\n"
     ]
    }
   ],
   "source": [
    "print(\"\\n\" + \"=\" * 60)\n",
    "print(\"📝 PART 2 SUMMARY\")\n",
    "print(\"=\" * 60)"
   ]
  },
  {
   "cell_type": "code",
   "execution_count": 30,
   "id": "24a2434e",
   "metadata": {},
   "outputs": [
    {
     "name": "stdout",
     "output_type": "stream",
     "text": [
      "\n",
      "✅ What We Accomplished:\n",
      "- Created custom tools (calculator, weather, time)\n",
      "- Built a tool-calling agent with LangChain\n",
      "- Created a conversational agent with memory\n",
      "- Saw how agents reason through complex tasks\n",
      "- Tested multi-step problem solving\n",
      "\n",
      "🔑 Key Concepts:\n",
      "- Tools: Functions agents can call\n",
      "- Agents: LLMs that can use tools\n",
      "- Memory: How agents remember conversations\n",
      "- Reasoning: How agents break down complex tasks\n",
      "\n",
      "🚀 Next Up: Building Your Own MCP Server!\n",
      "\n"
     ]
    }
   ],
   "source": [
    "print(\"\"\"\n",
    "✅ What We Accomplished:\n",
    "- Created custom tools (calculator, weather, time)\n",
    "- Built a tool-calling agent with LangChain\n",
    "- Created a conversational agent with memory\n",
    "- Saw how agents reason through complex tasks\n",
    "- Tested multi-step problem solving\n",
    "\n",
    "🔑 Key Concepts:\n",
    "- Tools: Functions agents can call\n",
    "- Agents: LLMs that can use tools\n",
    "- Memory: How agents remember conversations\n",
    "- Reasoning: How agents break down complex tasks\n",
    "\n",
    "🚀 Next Up: Building Your Own MCP Server!\n",
    "\"\"\")"
   ]
  },
  {
   "cell_type": "code",
   "execution_count": 31,
   "id": "277eedd9",
   "metadata": {},
   "outputs": [
    {
     "name": "stdout",
     "output_type": "stream",
     "text": [
      "\n",
      "🎉 Part 2 Complete! Ready for Part 3: MCP Server Development?\n"
     ]
    }
   ],
   "source": [
    "print(\"\\n🎉 Part 2 Complete! Ready for Part 3: MCP Server Development?\")"
   ]
  }
 ],
 "metadata": {
  "jupytext": {
   "cell_metadata_filter": "-all",
   "executable": "/usr/bin/env python3",
   "main_language": "python",
   "notebook_metadata_filter": "-all"
  },
  "kernelspec": {
   "display_name": "llm_workshop_env",
   "language": "python",
   "name": "python3"
  },
  "language_info": {
   "codemirror_mode": {
    "name": "ipython",
    "version": 3
   },
   "file_extension": ".py",
   "mimetype": "text/x-python",
   "name": "python",
   "nbconvert_exporter": "python",
   "pygments_lexer": "ipython3",
   "version": "3.13.2"
  }
 },
 "nbformat": 4,
 "nbformat_minor": 5
}
