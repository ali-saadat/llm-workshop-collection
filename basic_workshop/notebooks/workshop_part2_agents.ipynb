{
 "cells": [
  {
   "cell_type": "code",
   "execution_count": null,
   "id": "01e4d853",
   "metadata": {},
   "outputs": [],
   "source": [
    "\"\"\"\n",
    "🚀 LLM Workshop: Part 2 - LLM Agents with LangChain\n",
    "Duration: ~45 minutes\n",
    "Level: Beginner\n",
    "\n",
    "IMPORTANT: Make sure your virtual environment is activated!\n",
    "If you haven't set up the environment yet, run: python3 workshop_setup.py\n",
    "\"\"\""
   ]
  },
  {
   "cell_type": "code",
   "execution_count": null,
   "id": "c8cce0a0",
   "metadata": {},
   "outputs": [],
   "source": [
    "import os\n",
    "import json\n",
    "from typing import List, Dict, Any\n",
    "from langchain.agents import initialize_agent, AgentType, Tool\n",
    "from langchain.tools import BaseTool\n",
    "from langchain_openai import ChatOpenAI\n",
    "from langchain.schema import HumanMessage, AIMessage\n",
    "from langchain.memory import ConversationBufferMemory\n",
    "from dotenv import load_dotenv"
   ]
  },
  {
   "cell_type": "code",
   "execution_count": null,
   "id": "12e853ea",
   "metadata": {},
   "outputs": [],
   "source": [
    "# Load environment variables\n",
    "load_dotenv()"
   ]
  },
  {
   "cell_type": "markdown",
   "id": "e64fa471",
   "metadata": {},
   "source": [
    "============================================================================\n",
    "🔧 SECTION 2: LLM AGENTS WITH LANGCHAIN\n",
    "============================================================================"
   ]
  },
  {
   "cell_type": "code",
   "execution_count": null,
   "id": "305e0bcb",
   "metadata": {},
   "outputs": [],
   "source": [
    "print(\"🎯 LLM WORKSHOP - PART 2: LLM Agents with LangChain\")\n",
    "print(\"=\" * 60)"
   ]
  },
  {
   "cell_type": "markdown",
   "id": "76e96f59",
   "metadata": {},
   "source": [
    "============================================================================\n",
    "🛠️ CUSTOM TOOLS FOR OUR AGENT\n",
    "============================================================================"
   ]
  },
  {
   "cell_type": "code",
   "execution_count": null,
   "id": "5678f966",
   "metadata": {
    "lines_to_next_cell": 1
   },
   "outputs": [],
   "source": [
    "print(\"🛠️ Creating Custom Tools for Our Agent\")\n",
    "print(\"-\" * 40)"
   ]
  },
  {
   "cell_type": "code",
   "execution_count": null,
   "id": "75a277ad",
   "metadata": {
    "lines_to_next_cell": 1
   },
   "outputs": [],
   "source": [
    "class CalculatorTool(BaseTool):\n",
    "    \"\"\"Simple calculator tool for the agent\"\"\"\n",
    "    name: str = \"calculator\"\n",
    "    description: str = \"Useful for doing math calculations. Input should be a mathematical expression like '2 + 2' or '10 * 5'\"\n",
    "    \n",
    "    def _run(self, query: str) -> str:\n",
    "        \"\"\"Execute the calculation\"\"\"\n",
    "        try:\n",
    "            # Simple and safe evaluation - only basic math operations\n",
    "            allowed_chars = set('0123456789+-*/.() ')\n",
    "            if not all(c in allowed_chars for c in query):\n",
    "                return \"Error: Only basic math operations (+, -, *, /, .) and numbers are allowed\"\n",
    "            \n",
    "            result = eval(query)\n",
    "            return f\"Result: {result}\"\n",
    "        except Exception as e:\n",
    "            return f\"Error calculating {query}: {str(e)}\""
   ]
  },
  {
   "cell_type": "code",
   "execution_count": null,
   "id": "4c6b6316",
   "metadata": {
    "lines_to_next_cell": 1
   },
   "outputs": [],
   "source": [
    "class WeatherTool(BaseTool):\n",
    "    \"\"\"Mock weather tool for demonstration\"\"\"\n",
    "    name: str = \"weather\"\n",
    "    description: str = \"Get weather information for a city. Input should be a city name like 'London' or 'New York'\"\n",
    "    \n",
    "    def _run(self, city: str) -> str:\n",
    "        \"\"\"Mock weather response\"\"\"\n",
    "        # In a real scenario, this would call a weather API\n",
    "        weather_data = {\n",
    "            \"London\": \"🌧️ Cloudy with rain, 15°C\",\n",
    "            \"New York\": \"☀️ Sunny, 22°C\", \n",
    "            \"Tokyo\": \"⛅ Partly cloudy, 18°C\",\n",
    "            \"Sydney\": \"🌤️ Mostly sunny, 25°C\"\n",
    "        }\n",
    "        \n",
    "        if city in weather_data:\n",
    "            return f\"Weather in {city}: {weather_data[city]}\"\n",
    "        else:\n",
    "            return f\"Weather for {city}: ☀️ Nice weather, 20°C (mock data)\""
   ]
  },
  {
   "cell_type": "code",
   "execution_count": null,
   "id": "502d4510",
   "metadata": {
    "lines_to_next_cell": 1
   },
   "outputs": [],
   "source": [
    "class TimeTool(BaseTool):\n",
    "    \"\"\"Simple time tool\"\"\"\n",
    "    name: str = \"get_time\"\n",
    "    description: str = \"Get the current time. No input needed.\"\n",
    "    \n",
    "    def _run(self, query: str = \"\") -> str:\n",
    "        \"\"\"Get current time\"\"\"\n",
    "        from datetime import datetime\n",
    "        current_time = datetime.now().strftime(\"%H:%M:%S\")\n",
    "        return f\"Current time: {current_time}\""
   ]
  },
  {
   "cell_type": "code",
   "execution_count": null,
   "id": "9e2a7a3f",
   "metadata": {},
   "outputs": [],
   "source": [
    "# Create our tools\n",
    "tools = [\n",
    "    CalculatorTool(),\n",
    "    WeatherTool(),\n",
    "    TimeTool()\n",
    "]"
   ]
  },
  {
   "cell_type": "code",
   "execution_count": null,
   "id": "c8314403",
   "metadata": {},
   "outputs": [],
   "source": [
    "print(\"✅ Created 3 custom tools:\")\n",
    "for tool in tools:\n",
    "    print(f\"   - {tool.name}: {tool.description}\")"
   ]
  },
  {
   "cell_type": "markdown",
   "id": "9222bfb4",
   "metadata": {},
   "source": [
    "============================================================================\n",
    "🤖 AGENT 1: TOOL-CALLING AGENT\n",
    "============================================================================"
   ]
  },
  {
   "cell_type": "code",
   "execution_count": null,
   "id": "a9cc0f19",
   "metadata": {},
   "outputs": [],
   "source": [
    "print(\"\\n\" + \"=\" * 60)\n",
    "print(\"🤖 AGENT 1: Tool-Calling Agent\")\n",
    "print(\"=\" * 60)"
   ]
  },
  {
   "cell_type": "code",
   "execution_count": null,
   "id": "6eec70ba",
   "metadata": {},
   "outputs": [],
   "source": [
    "# Configure the LLM (using your endpoint)\n",
    "llm = ChatOpenAI(\n",
    "    base_url=os.getenv(\"BASE_URL\", \"https://yylh5vmmm0.execute-api.eu-central-1.amazonaws.com/prod/v1\"),\n",
    "    api_key=os.getenv(\"API_KEY\", \"ALI-CLASS-2025\"),\n",
    "    model=\"anthropic.claude-3-haiku-20240307-v1:0\",\n",
    "    temperature=0.1\n",
    ")"
   ]
  },
  {
   "cell_type": "code",
   "execution_count": null,
   "id": "06734991",
   "metadata": {},
   "outputs": [],
   "source": [
    "# Initialize the agent\n",
    "agent = initialize_agent(\n",
    "    tools=tools,\n",
    "    llm=llm,\n",
    "    agent=AgentType.ZERO_SHOT_REACT_DESCRIPTION,\n",
    "    verbose=True,\n",
    "    handle_parsing_errors=True\n",
    ")"
   ]
  },
  {
   "cell_type": "code",
   "execution_count": null,
   "id": "85a1bfe7",
   "metadata": {},
   "outputs": [],
   "source": [
    "print(\"✅ Agent initialized with tools!\")\n",
    "print(\"🤖 Testing tool calling capabilities...\")"
   ]
  },
  {
   "cell_type": "code",
   "execution_count": null,
   "id": "209507fd",
   "metadata": {},
   "outputs": [],
   "source": [
    "# Test 1: Math calculation\n",
    "print(\"\\n🧮 Test 1: Math Calculation\")\n",
    "try:\n",
    "    response1 = agent.run(\"What is 15 * 8 + 3?\")\n",
    "    print(f\"Agent Response: {response1}\")\n",
    "except Exception as e:\n",
    "    print(f\"Error: {e}\")"
   ]
  },
  {
   "cell_type": "code",
   "execution_count": null,
   "id": "282d77e4",
   "metadata": {},
   "outputs": [],
   "source": [
    "# Test 2: Weather information\n",
    "print(\"\\n🌤️ Test 2: Weather Information\")\n",
    "try:\n",
    "    response2 = agent.run(\"What's the weather like in London?\")\n",
    "    print(f\"Agent Response: {response2}\")\n",
    "except Exception as e:\n",
    "    print(f\"Error: {e}\")"
   ]
  },
  {
   "cell_type": "code",
   "execution_count": null,
   "id": "da434d1c",
   "metadata": {},
   "outputs": [],
   "source": [
    "# Test 3: Time request\n",
    "print(\"\\n⏰ Test 3: Time Request\")\n",
    "try:\n",
    "    response3 = agent.run(\"What time is it right now?\")\n",
    "    print(f\"Agent Response: {response3}\")\n",
    "except Exception as e:\n",
    "    print(f\"Error: {e}\")"
   ]
  },
  {
   "cell_type": "markdown",
   "id": "2ea566ce",
   "metadata": {},
   "source": [
    "============================================================================\n",
    "🤖 AGENT 2: CONVERSATIONAL AGENT WITH MEMORY\n",
    "============================================================================"
   ]
  },
  {
   "cell_type": "code",
   "execution_count": null,
   "id": "ee1bfff2",
   "metadata": {},
   "outputs": [],
   "source": [
    "print(\"\\n\" + \"=\" * 60)\n",
    "print(\"🤖 AGENT 2: Conversational Agent with Memory\")\n",
    "print(\"=\" * 60)"
   ]
  },
  {
   "cell_type": "code",
   "execution_count": null,
   "id": "539c21d3",
   "metadata": {},
   "outputs": [],
   "source": [
    "# Create a memory component\n",
    "memory = ConversationBufferMemory(\n",
    "    memory_key=\"chat_history\",\n",
    "    return_messages=True\n",
    ")"
   ]
  },
  {
   "cell_type": "code",
   "execution_count": null,
   "id": "f9cd67a8",
   "metadata": {},
   "outputs": [],
   "source": [
    "# Create a conversational agent\n",
    "conversational_agent = initialize_agent(\n",
    "    tools=tools,\n",
    "    llm=llm,\n",
    "    agent=AgentType.CONVERSATIONAL_REACT_DESCRIPTION,\n",
    "    verbose=True,\n",
    "    memory=memory,\n",
    "    handle_parsing_errors=True\n",
    ")"
   ]
  },
  {
   "cell_type": "code",
   "execution_count": null,
   "id": "4690adba",
   "metadata": {},
   "outputs": [],
   "source": [
    "print(\"✅ Conversational agent with memory initialized!\")\n",
    "print(\"💬 Testing conversation flow...\")"
   ]
  },
  {
   "cell_type": "code",
   "execution_count": null,
   "id": "95d49cb0",
   "metadata": {},
   "outputs": [],
   "source": [
    "# Start a conversation\n",
    "print(\"\\n💬 Starting conversation...\")"
   ]
  },
  {
   "cell_type": "code",
   "execution_count": null,
   "id": "dba87a19",
   "metadata": {},
   "outputs": [],
   "source": [
    "try:\n",
    "    # First message\n",
    "    response1 = conversational_agent.run(\"Hi! I'm planning a trip. Can you help me?\")\n",
    "    print(f\"🤖 Agent: {response1}\")\n",
    "    \n",
    "    # Second message (agent should remember context)\n",
    "    response2 = conversational_agent.run(\"What's the weather like in Tokyo?\")\n",
    "    print(f\"🤖 Agent: {response2}\")\n",
    "    \n",
    "    # Third message (testing memory)\n",
    "    response3 = conversational_agent.run(\"And what about the weather in London?\")\n",
    "    print(f\"🤖 Agent: {response3}\")\n",
    "    \n",
    "    # Fourth message (testing tool combination)\n",
    "    response4 = conversational_agent.run(\"If I have 500 dollars and spend 120 on flights, how much do I have left?\")\n",
    "    print(f\"🤖 Agent: {response4}\")"
   ]
  },
  {
   "cell_type": "code",
   "execution_count": null,
   "id": "2f07168f",
   "metadata": {},
   "outputs": [],
   "source": [
    "except Exception as e:\n",
    "    print(f\"Error in conversation: {e}\")"
   ]
  },
  {
   "cell_type": "markdown",
   "id": "bd6bc4d5",
   "metadata": {},
   "source": [
    "============================================================================\n",
    "🎯 HANDS-ON EXERCISE\n",
    "============================================================================"
   ]
  },
  {
   "cell_type": "code",
   "execution_count": null,
   "id": "eeb9f569",
   "metadata": {},
   "outputs": [],
   "source": [
    "print(\"\\n\" + \"=\" * 60)\n",
    "print(\"🎯 HANDS-ON EXERCISE\")\n",
    "print(\"=\" * 60)"
   ]
  },
  {
   "cell_type": "code",
   "execution_count": null,
   "id": "12f63c86",
   "metadata": {},
   "outputs": [],
   "source": [
    "print(\"\"\"\n",
    "🎯 Your Turn! Try these exercises:\n",
    "\n",
    "1. **Tool Testing**: Ask the agent to use different tools\n",
    "   - \"Calculate 25 * 4 / 2\"\n",
    "   - \"What's the weather in Sydney?\"\n",
    "   - \"What time is it?\"\n",
    "\n",
    "2. **Multi-Step Tasks**: Give the agent complex requests\n",
    "   - \"If I have $1000 and spend $300 on a hotel, $150 on food, how much do I have left?\"\n",
    "   - \"What's the weather in New York and what time is it there?\"\n",
    "\n",
    "3. **Conversation Flow**: Have a natural conversation\n",
    "   - Ask about planning a weekend trip\n",
    "   - Request calculations for a budget\n",
    "   - Ask about weather in different cities\n",
    "\n",
    "4. **Custom Tool**: Try creating your own simple tool\n",
    "   - A tool that returns random facts\n",
    "   - A tool that converts units\n",
    "   - A tool that gives motivational quotes\n",
    "\n",
    "💡 Tips:\n",
    "- Be specific in your requests\n",
    "- Let the agent use multiple tools when needed\n",
    "- Watch how it reasons through complex tasks\n",
    "- Don't worry if it makes mistakes - this is learning!\n",
    "\"\"\")"
   ]
  },
  {
   "cell_type": "markdown",
   "id": "626d8f73",
   "metadata": {},
   "source": [
    "============================================================================\n",
    "🔍 AGENT REASONING DEMONSTRATION\n",
    "============================================================================"
   ]
  },
  {
   "cell_type": "code",
   "execution_count": null,
   "id": "5c027134",
   "metadata": {},
   "outputs": [],
   "source": [
    "print(\"\\n\" + \"=\" * 60)\n",
    "print(\"🔍 Agent Reasoning Demonstration\")\n",
    "print(\"=\" * 60)"
   ]
  },
  {
   "cell_type": "code",
   "execution_count": null,
   "id": "5c62fae7",
   "metadata": {},
   "outputs": [],
   "source": [
    "print(\"\"\"\n",
    "🔍 Let's see how the agent thinks through a complex task:\n",
    "\n",
    "Task: \"I have $500 and want to plan a weekend trip. \n",
    "I need to spend $200 on accommodation, $100 on food, \n",
    "and I want to know how much I'll have left for activities.\"\n",
    "\n",
    "The agent should:\n",
    "1. Use the calculator to subtract expenses: $500 - $200 - $100\n",
    "2. Give you the remaining budget\n",
    "3. Suggest what you could do with the remaining money\n",
    "\n",
    "This shows the agent's ability to:\n",
    "- Break down complex requests\n",
    "- Use multiple tools\n",
    "- Provide helpful, contextual responses\n",
    "\"\"\")"
   ]
  },
  {
   "cell_type": "code",
   "execution_count": null,
   "id": "a06b7455",
   "metadata": {},
   "outputs": [],
   "source": [
    "# Test the complex task\n",
    "print(\"\\n🧪 Testing Complex Task...\")\n",
    "try:\n",
    "    complex_response = conversational_agent.run(\n",
    "        \"I have $500 and want to plan a weekend trip. \"\n",
    "        \"I need to spend $200 on accommodation, $100 on food, \"\n",
    "        \"and I want to know how much I'll have left for activities.\"\n",
    "    )\n",
    "    print(f\"🤖 Agent Response: {complex_response}\")\n",
    "except Exception as e:\n",
    "    print(f\"Error: {e}\")"
   ]
  },
  {
   "cell_type": "markdown",
   "id": "9526848b",
   "metadata": {},
   "source": [
    "============================================================================\n",
    "📝 SUMMARY\n",
    "============================================================================"
   ]
  },
  {
   "cell_type": "code",
   "execution_count": null,
   "id": "8ad86038",
   "metadata": {},
   "outputs": [],
   "source": [
    "print(\"\\n\" + \"=\" * 60)\n",
    "print(\"📝 PART 2 SUMMARY\")\n",
    "print(\"=\" * 60)"
   ]
  },
  {
   "cell_type": "code",
   "execution_count": null,
   "id": "7b7959d2",
   "metadata": {},
   "outputs": [],
   "source": [
    "print(\"\"\"\n",
    "✅ What We Accomplished:\n",
    "- Created custom tools (calculator, weather, time)\n",
    "- Built a tool-calling agent with LangChain\n",
    "- Created a conversational agent with memory\n",
    "- Saw how agents reason through complex tasks\n",
    "- Tested multi-step problem solving\n",
    "\n",
    "🔑 Key Concepts:\n",
    "- Tools: Functions agents can call\n",
    "- Agents: LLMs that can use tools\n",
    "- Memory: How agents remember conversations\n",
    "- Reasoning: How agents break down complex tasks\n",
    "\n",
    "🚀 Next Up: Building Your Own MCP Server!\n",
    "\"\"\")"
   ]
  },
  {
   "cell_type": "code",
   "execution_count": null,
   "id": "b6921cc4",
   "metadata": {},
   "outputs": [],
   "source": [
    "print(\"\\n🎉 Part 2 Complete! Ready for Part 3: MCP Server Development?\")"
   ]
  }
 ],
 "metadata": {
  "jupytext": {
   "cell_metadata_filter": "-all",
   "executable": "/usr/bin/env python3",
   "main_language": "python",
   "notebook_metadata_filter": "-all"
  }
 },
 "nbformat": 4,
 "nbformat_minor": 5
}
