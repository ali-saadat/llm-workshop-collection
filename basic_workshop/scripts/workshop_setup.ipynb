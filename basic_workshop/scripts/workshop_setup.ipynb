{
 "cells": [
  {
   "cell_type": "code",
   "execution_count": null,
   "id": "477c7151",
   "metadata": {},
   "outputs": [],
   "source": [
    "\"\"\"\n",
    "🚀 LLM Workshop Setup Script\n",
    "This script sets up your virtual environment and installs all dependencies\n",
    "\"\"\""
   ]
  },
  {
   "cell_type": "code",
   "execution_count": null,
   "id": "ac4c74fe",
   "metadata": {
    "lines_to_next_cell": 1
   },
   "outputs": [],
   "source": [
    "import os\n",
    "import sys\n",
    "import subprocess\n",
    "import platform"
   ]
  },
  {
   "cell_type": "code",
   "execution_count": null,
   "id": "ba921975",
   "metadata": {
    "lines_to_next_cell": 1
   },
   "outputs": [],
   "source": [
    "def print_header():\n",
    "    \"\"\"Print workshop header\"\"\"\n",
    "    print(\"🚀 LLM WORKSHOP SETUP\")\n",
    "    print(\"=\" * 50)\n",
    "    print(\"Setting up your development environment...\")\n",
    "    print()"
   ]
  },
  {
   "cell_type": "code",
   "execution_count": null,
   "id": "df486d9b",
   "metadata": {
    "lines_to_next_cell": 1
   },
   "outputs": [],
   "source": [
    "def check_python_version():\n",
    "    \"\"\"Check if Python version is compatible\"\"\"\n",
    "    version = sys.version_info\n",
    "    if version.major < 3 or (version.major == 3 and version.minor < 8):\n",
    "        print(\"❌ Python 3.8+ is required\")\n",
    "        print(f\"Current version: {version.major}.{version.minor}.{version.micro}\")\n",
    "        return False\n",
    "    \n",
    "    print(f\"✅ Python {version.major}.{version.minor}.{version.micro} detected\")\n",
    "    return True"
   ]
  },
  {
   "cell_type": "code",
   "execution_count": null,
   "id": "be6a6656",
   "metadata": {
    "lines_to_next_cell": 1
   },
   "outputs": [],
   "source": [
    "def create_virtual_environment():\n",
    "    \"\"\"Create and activate virtual environment\"\"\"\n",
    "    venv_name = \"llm_workshop_env\"\n",
    "    \n",
    "    if os.path.exists(venv_name):\n",
    "        print(f\"✅ Virtual environment '{venv_name}' already exists\")\n",
    "        return venv_name\n",
    "    \n",
    "    print(f\"🔧 Creating virtual environment: {venv_name}\")\n",
    "    try:\n",
    "        subprocess.run([sys.executable, \"-m\", \"venv\", venv_name], check=True)\n",
    "        print(f\"✅ Virtual environment created successfully\")\n",
    "        return venv_name\n",
    "    except subprocess.CalledProcessError as e:\n",
    "        print(f\"❌ Failed to create virtual environment: {e}\")\n",
    "        return None"
   ]
  },
  {
   "cell_type": "code",
   "execution_count": null,
   "id": "906264d4",
   "metadata": {
    "lines_to_next_cell": 1
   },
   "outputs": [],
   "source": [
    "def get_activation_command(venv_name):\n",
    "    \"\"\"Get the activation command for the virtual environment\"\"\"\n",
    "    system = platform.system().lower()\n",
    "    \n",
    "    if system == \"windows\":\n",
    "        return f\"{venv_name}\\\\Scripts\\\\activate\"\n",
    "    else:  # macOS/Linux\n",
    "        return f\"source {venv_name}/bin/activate\""
   ]
  },
  {
   "cell_type": "code",
   "execution_count": null,
   "id": "ade435f0",
   "metadata": {
    "lines_to_next_cell": 1
   },
   "outputs": [],
   "source": [
    "def install_requirements(venv_name):\n",
    "    \"\"\"Install required packages in the virtual environment\"\"\"\n",
    "    print(\"\\n📦 Installing required packages...\")\n",
    "    \n",
    "    # Get the pip path in the virtual environment\n",
    "    if platform.system().lower() == \"windows\":\n",
    "        pip_path = os.path.join(venv_name, \"Scripts\", \"pip\")\n",
    "    else:\n",
    "        pip_path = os.path.join(venv_name, \"bin\", \"pip\")\n",
    "    \n",
    "    # Install packages one by one to handle errors gracefully\n",
    "    packages = [\n",
    "        \"requests>=2.31.0\",\n",
    "        \"openai>=1.0.0\", \n",
    "        \"langchain>=0.1.0\",\n",
    "        \"langchain-openai>=0.0.5\",\n",
    "        \"python-dotenv>=1.0.0\"\n",
    "    ]\n",
    "    \n",
    "    failed_packages = []\n",
    "    \n",
    "    for package in packages:\n",
    "        try:\n",
    "            print(f\"   Installing {package}...\")\n",
    "            subprocess.run([pip_path, \"install\", package], check=True, capture_output=True)\n",
    "            print(f\"   ✅ {package} installed successfully\")\n",
    "        except subprocess.CalledProcessError as e:\n",
    "            print(f\"   ❌ Failed to install {package}\")\n",
    "            failed_packages.append(package)\n",
    "    \n",
    "    # Try to install MCP packages (these might fail on some systems)\n",
    "    mcp_packages = [\n",
    "        \"mcp>=1.0.0\",\n",
    "        \"mcp-server-stdio>=1.0.0\", \n",
    "        \"mcp-client-stdio>=1.0.0\"\n",
    "    ]\n",
    "    \n",
    "    print(\"\\n🔌 Installing MCP packages (optional for basic workshop)...\")\n",
    "    for package in mcp_packages:\n",
    "        try:\n",
    "            print(f\"   Installing {package}...\")\n",
    "            subprocess.run([pip_path, \"install\", package], check=True, capture_output=True)\n",
    "            print(f\"   ✅ {package} installed successfully\")\n",
    "        except subprocess.CalledProcessError:\n",
    "            print(f\"   ⚠️  {package} failed to install (MCP features will be limited)\")\n",
    "            failed_packages.append(package)\n",
    "    \n",
    "    return failed_packages"
   ]
  },
  {
   "cell_type": "code",
   "execution_count": null,
   "id": "509c8bcb",
   "metadata": {
    "lines_to_next_cell": 1
   },
   "outputs": [],
   "source": [
    "def print_next_steps(venv_name, failed_packages):\n",
    "    \"\"\"Print next steps for the user\"\"\"\n",
    "    activation_cmd = get_activation_command(venv_name)\n",
    "    \n",
    "    print(\"\\n\" + \"=\" * 50)\n",
    "    print(\"🎉 SETUP COMPLETE!\")\n",
    "    print(\"=\" * 50)\n",
    "    \n",
    "    print(f\"\\n✅ Virtual environment created: {venv_name}\")\n",
    "    \n",
    "    if failed_packages:\n",
    "        print(f\"\\n⚠️  Some packages failed to install: {', '.join(failed_packages)}\")\n",
    "        print(\"   You can try installing them manually later\")\n",
    "    \n",
    "    print(f\"\\n🚀 To start working on the workshop:\")\n",
    "    print(f\"   1. Activate your virtual environment:\")\n",
    "    print(f\"      {activation_cmd}\")\n",
    "    print(f\"   2. Run the workshop parts:\")\n",
    "    print(f\"      python workshop_part1_setup.py\")\n",
    "    print(f\"      python workshop_part2_agents.py\") \n",
    "    print(f\"      python workshop_part3_mcp_server.py\")\n",
    "    \n",
    "    print(f\"\\n💡 If you're using VS Code/Cursor:\")\n",
    "    print(f\"   1. Open the command palette (Cmd+Shift+P)\")\n",
    "    print(f\"   2. Type 'Python: Select Interpreter'\")\n",
    "    print(f\"   3. Choose the interpreter from: {venv_name}/bin/python\")\n",
    "    \n",
    "    print(f\"\\n📚 Check README.md for detailed workshop instructions!\")\n",
    "    print(f\"\\n🎯 Happy coding! 🚀\")"
   ]
  },
  {
   "cell_type": "code",
   "execution_count": null,
   "id": "4e710568",
   "metadata": {
    "lines_to_next_cell": 1
   },
   "outputs": [],
   "source": [
    "def main():\n",
    "    \"\"\"Main setup function\"\"\"\n",
    "    print_header()\n",
    "    \n",
    "    # Check Python version\n",
    "    if not check_python_version():\n",
    "        return\n",
    "    \n",
    "    # Create virtual environment\n",
    "    venv_name = create_virtual_environment()\n",
    "    if not venv_name:\n",
    "        return\n",
    "    \n",
    "    # Install requirements\n",
    "    failed_packages = install_requirements(venv_name)\n",
    "    \n",
    "    # Print next steps\n",
    "    print_next_steps(venv_name, failed_packages)"
   ]
  },
  {
   "cell_type": "code",
   "execution_count": null,
   "id": "a7c2b820",
   "metadata": {},
   "outputs": [],
   "source": [
    "if __name__ == \"__main__\":\n",
    "    main()"
   ]
  }
 ],
 "metadata": {
  "jupytext": {
   "cell_metadata_filter": "-all",
   "executable": "/usr/bin/env python3",
   "main_language": "python",
   "notebook_metadata_filter": "-all"
  }
 },
 "nbformat": 4,
 "nbformat_minor": 5
}
