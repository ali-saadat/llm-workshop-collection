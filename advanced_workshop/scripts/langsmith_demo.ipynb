{
 "cells": [
  {
   "cell_type": "code",
   "execution_count": null,
   "id": "b1785933",
   "metadata": {},
   "outputs": [],
   "source": [
    "\"\"\"\n",
    "🔍 LangSmith Demo: Observability and Evaluation\n",
    "Duration: ~20 minutes\n",
    "Level: Intermediate/Advanced\n",
    "\n",
    "IMPORTANT: Make sure your virtual environment is activated!\n",
    "\"\"\""
   ]
  },
  {
   "cell_type": "code",
   "execution_count": null,
   "id": "fa181662",
   "metadata": {},
   "outputs": [],
   "source": [
    "import os\n",
    "import requests\n",
    "import json\n",
    "from typing import Dict, Any, List, Optional\n",
    "from datetime import datetime\n",
    "from dotenv import load_dotenv"
   ]
  },
  {
   "cell_type": "code",
   "execution_count": null,
   "id": "42ac06b9",
   "metadata": {},
   "outputs": [],
   "source": [
    "# Load environment variables\n",
    "load_dotenv()"
   ]
  },
  {
   "cell_type": "markdown",
   "id": "484160ff",
   "metadata": {},
   "source": [
    "============================================================================\n",
    "🔍 LANGSMITH DEMO: OBSERVABILITY AND EVALUATION\n",
    "============================================================================"
   ]
  },
  {
   "cell_type": "code",
   "execution_count": null,
   "id": "b9e9be30",
   "metadata": {},
   "outputs": [],
   "source": [
    "print(\"🔍 LANGSMITH DEMO: Observability and Evaluation\")\n",
    "print(\"=\" * 70)\n",
    "print(\"Duration: ~20 minutes | Level: Intermediate/Advanced\")\n",
    "print(\"=\" * 70)"
   ]
  },
  {
   "cell_type": "markdown",
   "id": "6957f5ea",
   "metadata": {},
   "source": [
    "============================================================================\n",
    "🔑 LANGSMITH CONFIGURATION\n",
    "============================================================================"
   ]
  },
  {
   "cell_type": "code",
   "execution_count": null,
   "id": "4ada44cb",
   "metadata": {},
   "outputs": [],
   "source": [
    "print(\"\\n🔑 Setting up LangSmith configuration...\")"
   ]
  },
  {
   "cell_type": "code",
   "execution_count": null,
   "id": "c9b4598d",
   "metadata": {},
   "outputs": [],
   "source": [
    "# LangSmith configuration from environment variables\n",
    "LANGSMITH_API_KEY = os.getenv(\"LANGSMITH_API_KEY\", \"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\")\n",
    "LANGSMITH_PROJECT = os.getenv(\"LANGSMITH_PROJECT\", \"pr-candid-passing-65\")\n",
    "LANGSMITH_TRACING_V2 = os.getenv(\"LANGSMITH_TRACING_V2\", \"true\")"
   ]
  },
  {
   "cell_type": "code",
   "execution_count": null,
   "id": "3a23d891",
   "metadata": {},
   "outputs": [],
   "source": [
    "print(\"✅ LangSmith configuration loaded!\")\n",
    "print(f\"🔑 API Key: {LANGSMITH_API_KEY[:10]}...\")\n",
    "print(f\"📊 Project: {LANGSMITH_PROJECT}\")\n",
    "print(f\"🔍 Tracing: {LANGSMITH_TRACING_V2}\")"
   ]
  },
  {
   "cell_type": "markdown",
   "id": "f557bd1a",
   "metadata": {},
   "source": [
    "============================================================================\n",
    "🎯 WHAT IS LANGSMITH?\n",
    "============================================================================"
   ]
  },
  {
   "cell_type": "code",
   "execution_count": null,
   "id": "8a8486ab",
   "metadata": {},
   "outputs": [],
   "source": [
    "print(\"\\n\" + \"=\" * 70)\n",
    "print(\"🎯 WHAT IS LANGSMITH?\")\n",
    "print(\"=\" * 70)"
   ]
  },
  {
   "cell_type": "code",
   "execution_count": null,
   "id": "88f6c748",
   "metadata": {},
   "outputs": [],
   "source": [
    "print(\"\"\"\n",
    "🔍 LANGSMITH: The Observability Platform for LLM Applications\n",
    "\n",
    "🎯 ELI5: LangSmith is like a CCTV system + notebook for your AI agents.\n",
    "It watches every step, records mistakes, and helps you improve.\n",
    "\n",
    "🔑 KEY FEATURES:\n",
    "\n",
    "1. **Tracing**: Watch every step of your agent's execution\n",
    "2. **Evaluation**: Test your agents with real data\n",
    "3. **Debugging**: Find and fix issues quickly\n",
    "4. **Analytics**: Understand performance and costs\n",
    "5. **Collaboration**: Share insights with your team\n",
    "\n",
    "🔄 HOW IT WORKS:\n",
    "\n",
    "1. **Instrument** your LLM calls with LangSmith\n",
    "2. **Run** your agents and see every step\n",
    "3. **Evaluate** with test datasets\n",
    "4. **Debug** failed runs and slow tools\n",
    "5. **Improve** based on insights\n",
    "\n",
    "💡 BUSINESS VALUE:\n",
    "\n",
    "- **Faster Debugging**: Find issues in minutes, not hours\n",
    "- **Better Performance**: Optimize based on real data\n",
    "- **Cost Control**: Track and optimize LLM usage\n",
    "- **Quality Assurance**: Ensure consistent results\n",
    "- **Team Collaboration**: Share insights and improvements\n",
    "\"\"\")"
   ]
  },
  {
   "cell_type": "markdown",
   "id": "1da990ae",
   "metadata": {},
   "source": [
    "============================================================================\n",
    "🧪 DEMONSTRATION: LANGSMITH TRACING\n",
    "============================================================================"
   ]
  },
  {
   "cell_type": "code",
   "execution_count": null,
   "id": "d8c9b5f5",
   "metadata": {
    "lines_to_next_cell": 1
   },
   "outputs": [],
   "source": [
    "print(\"\\n\" + \"=\" * 70)\n",
    "print(\"🧪 DEMONSTRATION: LangSmith Tracing\")\n",
    "print(\"=\" * 70)"
   ]
  },
  {
   "cell_type": "code",
   "execution_count": null,
   "id": "c395db88",
   "metadata": {
    "lines_to_next_cell": 1
   },
   "outputs": [],
   "source": [
    "def demonstrate_langsmith_tracing():\n",
    "    \"\"\"Demonstrate how LangSmith tracing works\"\"\"\n",
    "    \n",
    "    print(\"🔍 LANGSMITH TRACING EXAMPLE:\")\n",
    "    print(\"-\" * 50)\n",
    "    \n",
    "    # Simulate a traced agent execution\n",
    "    execution_steps = [\n",
    "        {\n",
    "            \"step\": \"User Input\",\n",
    "            \"data\": \"I need a laptop for video editing under $1000\",\n",
    "            \"timestamp\": \"2024-09-02T18:00:00Z\"\n",
    "        },\n",
    "        {\n",
    "            \"step\": \"Tool Selection\",\n",
    "            \"data\": \"Selected: ProductSearchTool, PriceTool, RecommendationTool\",\n",
    "            \"timestamp\": \"2024-09-02T18:00:01Z\"\n",
    "        },\n",
    "        {\n",
    "            \"step\": \"Product Search\",\n",
    "            \"data\": \"Found 15 laptops matching criteria\",\n",
    "            \"timestamp\": \"2024-09-02T18:00:02Z\"\n",
    "        },\n",
    "        {\n",
    "            \"step\": \"Price Filtering\",\n",
    "            \"data\": \"Filtered to 8 laptops under $1000\",\n",
    "            \"timestamp\": \"2024-09-02T18:00:03Z\"\n",
    "        },\n",
    "        {\n",
    "            \"step\": \"Recommendation\",\n",
    "            \"data\": \"Ranked top 3 laptops for video editing\",\n",
    "            \"timestamp\": \"2024-09-02T18:00:04Z\"\n",
    "        },\n",
    "        {\n",
    "            \"step\": \"Response Generation\",\n",
    "            \"data\": \"Generated personalized recommendations\",\n",
    "            \"timestamp\": \"2024-09-02T18:00:05Z\"\n",
    "        }\n",
    "    ]\n",
    "    \n",
    "    print(\"📊 TRACED EXECUTION:\")\n",
    "    for i, step in enumerate(execution_steps, 1):\n",
    "        print(f\"  {i}. {step['step']}\")\n",
    "        print(f\"     Data: {step['data']}\")\n",
    "        print(f\"     Time: {step['timestamp']}\")\n",
    "        print()\n",
    "    \n",
    "    print(\"🎯 WHAT LANGSMITH SHOWS:\")\n",
    "    print(\"  ✅ Every step with timing\")\n",
    "    print(\"  ✅ Input/output data\")\n",
    "    print(\"  ✅ Tool usage and costs\")\n",
    "    print(\"  ✅ Error details and stack traces\")\n",
    "    print(\"  ✅ Performance metrics\")"
   ]
  },
  {
   "cell_type": "code",
   "execution_count": null,
   "id": "630cd857",
   "metadata": {},
   "outputs": [],
   "source": [
    "demonstrate_langsmith_tracing()"
   ]
  },
  {
   "cell_type": "markdown",
   "id": "78047069",
   "metadata": {},
   "source": [
    "============================================================================\n",
    "📊 LANGSMITH EVALUATION\n",
    "============================================================================"
   ]
  },
  {
   "cell_type": "code",
   "execution_count": null,
   "id": "ae20d35b",
   "metadata": {},
   "outputs": [],
   "source": [
    "print(\"\\n\" + \"=\" * 70)\n",
    "print(\"📊 LANGSMITH EVALUATION\")\n",
    "print(\"=\" * 70)"
   ]
  },
  {
   "cell_type": "code",
   "execution_count": null,
   "id": "2cc0cc69",
   "metadata": {},
   "outputs": [],
   "source": [
    "print(\"\"\"\n",
    "🎯 EVALUATION IN LANGSMITH:\n",
    "\n",
    "1. **RAG-Triad Evaluation**\n",
    "   - Groundedness: Is the answer based on retrieved facts?\n",
    "   - Context Relevance: Are the retrieved facts relevant?\n",
    "   - Answer Relevance: Does the answer address the question?\n",
    "\n",
    "2. **Custom Metrics**\n",
    "   - Response time\n",
    "   - Cost per query\n",
    "   - User satisfaction\n",
    "   - Business KPIs\n",
    "\n",
    "3. **A/B Testing**\n",
    "   - Compare different prompts\n",
    "   - Test different models\n",
    "   - Evaluate tool combinations\n",
    "\n",
    "4. **Regression Testing**\n",
    "   - Ensure improvements don't break existing functionality\n",
    "   - Track performance over time\n",
    "   - Monitor for drift\n",
    "\n",
    "💡 EVALUATION EXAMPLE:\n",
    "\n",
    "Question: \"I need a laptop for video editing under $1000\"\n",
    "\n",
    "Evaluation Metrics:\n",
    "- ✅ Groundedness: 0.95 (answer based on product data)\n",
    "- ✅ Context Relevance: 0.92 (retrieved relevant laptops)\n",
    "- ✅ Answer Relevance: 0.98 (directly addresses the question)\n",
    "- ✅ Response Time: 2.3 seconds\n",
    "- ✅ Cost: $0.05 per query\n",
    "- ✅ User Rating: 4.8/5.0\n",
    "\"\"\")"
   ]
  },
  {
   "cell_type": "markdown",
   "id": "94b7776c",
   "metadata": {},
   "source": [
    "============================================================================\n",
    "🛠 LANGSMITH SETUP AND USAGE\n",
    "============================================================================"
   ]
  },
  {
   "cell_type": "code",
   "execution_count": null,
   "id": "6af7169a",
   "metadata": {},
   "outputs": [],
   "source": [
    "print(\"\\n\" + \"=\" * 70)\n",
    "print(\"🛠 LANGSMITH SETUP AND USAGE\")\n",
    "print(\"=\" * 70)"
   ]
  },
  {
   "cell_type": "code",
   "execution_count": null,
   "id": "0b6da349",
   "metadata": {},
   "outputs": [],
   "source": [
    "print(\"\"\"\n",
    "🔧 SETUP STEPS:\n",
    "\n",
    "1. **Get LangSmith API Key**\n",
    "   - Sign up at https://smith.langchain.com/\n",
    "   - Create a new project\n",
    "   - Get your API key\n",
    "\n",
    "2. **Configure Environment**\n",
    "   ```bash\n",
    "   # Add to .env file\n",
    "   LANGSMITH_API_KEY=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\n",
    "   LANGSMITH_PROJECT=pr-candid-passing-65\n",
    "   LANGSMITH_TRACING_V2=true\n",
    "   ```\n",
    "\n",
    "3. **Install Dependencies**\n",
    "   ```bash\n",
    "   pip install langsmith\n",
    "   ```\n",
    "\n",
    "4. **Instrument Your Code**\n",
    "   ```python\n",
    "   from langsmith import Client\n",
    "   from langchain.callbacks import LangChainTracer\n",
    "   \n",
    "   # Initialize client\n",
    "   client = Client(api_key=LANGSMITH_API_KEY)\n",
    "   \n",
    "   # Add tracer to your chain\n",
    "   tracer = LangChainTracer(project_name=LANGSMITH_PROJECT)\n",
    "   ```\n",
    "\n",
    "5. **Run and Monitor**\n",
    "   - Execute your agents\n",
    "   - View traces in LangSmith dashboard\n",
    "   - Analyze performance and costs\n",
    "\n",
    "📊 DASHBOARD FEATURES:\n",
    "\n",
    "- **Traces**: See every execution step\n",
    "- **Evaluations**: Test with real data\n",
    "- **Analytics**: Performance and cost insights\n",
    "- **Datasets**: Manage test data\n",
    "- **Prompts**: Version and compare prompts\n",
    "- **Feedback**: Collect user ratings\n",
    "\"\"\")"
   ]
  },
  {
   "cell_type": "markdown",
   "id": "2507e2e0",
   "metadata": {},
   "source": [
    "============================================================================\n",
    "🎯 LANGSMITH USE CASES\n",
    "============================================================================"
   ]
  },
  {
   "cell_type": "code",
   "execution_count": null,
   "id": "73ed5ac2",
   "metadata": {},
   "outputs": [],
   "source": [
    "print(\"\\n\" + \"=\" * 70)\n",
    "print(\"🎯 LANGSMITH USE CASES\")\n",
    "print(\"=\" * 70)"
   ]
  },
  {
   "cell_type": "code",
   "execution_count": null,
   "id": "d3e839ce",
   "metadata": {},
   "outputs": [],
   "source": [
    "print(\"\"\"\n",
    "🌍 REAL-WORLD APPLICATIONS:\n",
    "\n",
    "1. **Customer Service Chatbots**\n",
    "   - Monitor response quality\n",
    "   - Track resolution rates\n",
    "   - Optimize for customer satisfaction\n",
    "   - A/B test different approaches\n",
    "\n",
    "2. **E-commerce Recommendation Systems**\n",
    "   - Evaluate recommendation relevance\n",
    "   - Track conversion rates\n",
    "   - Monitor for bias and fairness\n",
    "   - Optimize for business metrics\n",
    "\n",
    "3. **Healthcare AI Systems**\n",
    "   - Ensure medical accuracy\n",
    "   - Track compliance with guidelines\n",
    "   - Monitor for safety issues\n",
    "   - Audit for regulatory requirements\n",
    "\n",
    "4. **Financial AI Applications**\n",
    "   - Validate investment advice\n",
    "   - Track risk assessment accuracy\n",
    "   - Monitor for regulatory compliance\n",
    "   - Ensure consistent decision-making\n",
    "\n",
    "5. **Content Generation Systems**\n",
    "   - Evaluate content quality\n",
    "   - Track brand consistency\n",
    "   - Monitor for inappropriate content\n",
    "   - Optimize for engagement metrics\n",
    "\n",
    "💡 BUSINESS BENEFITS:\n",
    "\n",
    "- **Quality Assurance**: Ensure consistent, high-quality outputs\n",
    "- **Cost Optimization**: Track and reduce LLM usage costs\n",
    "- **Risk Management**: Identify and mitigate issues early\n",
    "- **Performance Improvement**: Data-driven optimization\n",
    "- **Compliance**: Meet regulatory and audit requirements\n",
    "\"\"\")"
   ]
  },
  {
   "cell_type": "markdown",
   "id": "f7c12474",
   "metadata": {},
   "source": [
    "============================================================================\n",
    "🧪 HANDS-ON EXERCISE\n",
    "============================================================================"
   ]
  },
  {
   "cell_type": "code",
   "execution_count": null,
   "id": "34ac1a6f",
   "metadata": {},
   "outputs": [],
   "source": [
    "print(\"\\n\" + \"=\" * 70)\n",
    "print(\"🧪 HANDS-ON EXERCISE\")\n",
    "print(\"=\" * 70)"
   ]
  },
  {
   "cell_type": "code",
   "execution_count": null,
   "id": "e0338865",
   "metadata": {},
   "outputs": [],
   "source": [
    "print(\"\"\"\n",
    "🎯 YOUR TASK: Design a LangSmith evaluation strategy for your agentic system.\n",
    "\n",
    "Think about:\n",
    "1. **What metrics** would you track?\n",
    "2. **What test data** would you use?\n",
    "3. **What evaluations** would you run?\n",
    "4. **What alerts** would you set up?\n",
    "\n",
    "Example Framework:\n",
    "\n",
    "🏥 HEALTHCARE USE CASE:\n",
    "Metrics: Medical accuracy, response time, compliance rate\n",
    "Test Data: 1000 patient scenarios with expert annotations\n",
    "Evaluations: RAG-triad, medical knowledge validation, safety checks\n",
    "Alerts: Accuracy below 95%, response time above 5s, safety violations\n",
    "\n",
    "💻 YOUR USE CASE: Fill in the framework below:\n",
    "\"\"\")"
   ]
  },
  {
   "cell_type": "code",
   "execution_count": null,
   "id": "3e267804",
   "metadata": {},
   "outputs": [],
   "source": [
    "# Interactive input for participants\n",
    "print(\"📝 Your LangSmith Evaluation Strategy:\")\n",
    "print(\"Metrics: _________________________________________________\")\n",
    "print(\"Test Data: _________________________________________________\")\n",
    "print(\"Evaluations: _________________________________________________\")\n",
    "print(\"Alerts: _________________________________________________\")"
   ]
  },
  {
   "cell_type": "markdown",
   "id": "ae444b63",
   "metadata": {},
   "source": [
    "============================================================================\n",
    "📝 LANGSMITH SUMMARY\n",
    "============================================================================"
   ]
  },
  {
   "cell_type": "code",
   "execution_count": null,
   "id": "36038c73",
   "metadata": {},
   "outputs": [],
   "source": [
    "print(\"\\n\" + \"=\" * 70)\n",
    "print(\"📝 LANGSMITH SUMMARY\")\n",
    "print(\"=\" * 70)"
   ]
  },
  {
   "cell_type": "code",
   "execution_count": null,
   "id": "1a8af29f",
   "metadata": {},
   "outputs": [],
   "source": [
    "print(\"\"\"\n",
    "✅ WHAT WE COVERED:\n",
    "\n",
    "1. **LangSmith Overview**\n",
    "   - Observability platform for LLM applications\n",
    "   - Tracing, evaluation, debugging, analytics\n",
    "\n",
    "2. **Key Features**\n",
    "   - Step-by-step execution tracking\n",
    "   - RAG-triad and custom evaluations\n",
    "   - Performance and cost analytics\n",
    "   - Team collaboration tools\n",
    "\n",
    "3. **Setup and Usage**\n",
    "   - API key configuration\n",
    "   - Code instrumentation\n",
    "   - Dashboard monitoring\n",
    "\n",
    "4. **Business Applications**\n",
    "   - Quality assurance and compliance\n",
    "   - Cost optimization and performance\n",
    "   - Risk management and debugging\n",
    "\n",
    "🎯 KEY INSIGHTS:\n",
    "\n",
    "- **LangSmith is essential** for production LLM applications\n",
    "- **Tracing helps debug** complex agent workflows\n",
    "- **Evaluation ensures quality** and consistency\n",
    "- **Analytics optimize** performance and costs\n",
    "- **Collaboration improves** team productivity\n",
    "\n",
    "🚀 NEXT UP: LangServe for Production Deployment!\n",
    "\n",
    "In the next demo, you'll learn:\n",
    "- How to deploy agents as web services\n",
    "- Multi-channel session handling\n",
    "- Production scaling and monitoring\n",
    "- API management and security\n",
    "\"\"\")"
   ]
  },
  {
   "cell_type": "code",
   "execution_count": null,
   "id": "7c950080",
   "metadata": {},
   "outputs": [],
   "source": [
    "print(\"\\n🎉 LangSmith Demo Complete! Ready for LangServe?\")"
   ]
  },
  {
   "cell_type": "markdown",
   "id": "7d699cd6",
   "metadata": {},
   "source": [
    "============================================================================\n",
    "🎯 NEXT STEPS\n",
    "============================================================================"
   ]
  },
  {
   "cell_type": "code",
   "execution_count": null,
   "id": "cf730b93",
   "metadata": {},
   "outputs": [],
   "source": [
    "print(\"\\n\" + \"=\" * 70)\n",
    "print(\"🎯 NEXT STEPS\")\n",
    "print(\"=\" * 70)"
   ]
  },
  {
   "cell_type": "code",
   "execution_count": null,
   "id": "1eed6e66",
   "metadata": {},
   "outputs": [],
   "source": [
    "print(\"\"\"\n",
    "💡 TO GET STARTED WITH LANGSMITH:\n",
    "\n",
    "1. **Sign up** at https://smith.langchain.com/\n",
    "2. **Create a project** for your use case\n",
    "3. **Get your API key** and add to .env\n",
    "4. **Install langsmith**: `pip install langsmith`\n",
    "5. **Instrument your code** with tracing\n",
    "6. **Run evaluations** with test data\n",
    "\n",
    "📚 RESOURCES:\n",
    "- [LangSmith Documentation](https://docs.smith.langchain.com/)\n",
    "- [LangSmith Tutorials](https://docs.smith.langchain.com/tutorials)\n",
    "- [Evaluation Guide](https://docs.smith.langchain.com/evaluation)\n",
    "- [Best Practices](https://docs.smith.langchain.com/best-practices)\n",
    "\n",
    "🚀 See you in the LangServe demo! 🎯\n",
    "\"\"\")"
   ]
  }
 ],
 "metadata": {
  "jupytext": {
   "cell_metadata_filter": "-all",
   "executable": "/usr/bin/env python3",
   "main_language": "python",
   "notebook_metadata_filter": "-all"
  }
 },
 "nbformat": 4,
 "nbformat_minor": 5
}
