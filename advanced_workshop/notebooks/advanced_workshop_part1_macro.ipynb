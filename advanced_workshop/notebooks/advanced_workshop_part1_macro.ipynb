{
 "cells": [
  {
   "cell_type": "code",
   "execution_count": null,
   "id": "1e60495c",
   "metadata": {},
   "outputs": [],
   "source": [
    "\"\"\"\n",
    "🚀 Advanced LLM Workshop: Part 1 - Macro View & Search Evolution\n",
    "Duration: ~30 minutes\n",
    "Level: Intermediate/Advanced\n",
    "Audience: Technical IT teams (UI, backend, full stack, data scientists, PO, PM, scrum master)\n",
    "\n",
    "IMPORTANT: Make sure your virtual environment is activated!\n",
    "If you haven't set up the environment yet, run: python3 ../basic_workshop/scripts/workshop_setup.py\n",
    "\"\"\""
   ]
  },
  {
   "cell_type": "code",
   "execution_count": null,
   "id": "02a7f4b7",
   "metadata": {},
   "outputs": [],
   "source": [
    "import requests\n",
    "import json\n",
    "import os\n",
    "from typing import Dict, Any, List, Optional\n",
    "from datetime import datetime\n",
    "from dotenv import load_dotenv"
   ]
  },
  {
   "cell_type": "code",
   "execution_count": null,
   "id": "25544054",
   "metadata": {},
   "outputs": [],
   "source": [
    "# Load environment variables\n",
    "load_dotenv()"
   ]
  },
  {
   "cell_type": "markdown",
   "id": "33f97633",
   "metadata": {},
   "source": [
    "============================================================================\n",
    "🎯 PART 1: MACRO VIEW - WHY THIS MATTERS NOW\n",
    "============================================================================"
   ]
  },
  {
   "cell_type": "code",
   "execution_count": null,
   "id": "d7d7e80f",
   "metadata": {},
   "outputs": [],
   "source": [
    "print(\"🚀 ADVANCED LLM WORKSHOP - PART 1: Macro View & Search Evolution\")\n",
    "print(\"=\" * 70)\n",
    "print(\"Duration: ~30 minutes | Level: Intermediate/Advanced\")\n",
    "print(\"Audience: Technical IT teams (UI, backend, full stack, data scientists, PO, PM, scrum master)\")\n",
    "print(\"=\" * 70)"
   ]
  },
  {
   "cell_type": "markdown",
   "id": "31af13b7",
   "metadata": {},
   "source": [
    "============================================================================\n",
    "🔑 YOUR API CONFIGURATION\n",
    "============================================================================"
   ]
  },
  {
   "cell_type": "code",
   "execution_count": null,
   "id": "955835d0",
   "metadata": {},
   "outputs": [],
   "source": [
    "print(\"\\n🔑 Setting up your API configuration...\")"
   ]
  },
  {
   "cell_type": "code",
   "execution_count": null,
   "id": "edd4a104",
   "metadata": {},
   "outputs": [],
   "source": [
    "# Your API configuration from environment variables\n",
    "BASE_URL = os.getenv(\"BASE_URL\", \"https://yylh5vmmm0.execute-api.eu-central-1.amazonaws.com/prod\")\n",
    "API_KEY = os.getenv(\"API_KEY\", \"ALI-CLASS-2025\")"
   ]
  },
  {
   "cell_type": "code",
   "execution_count": null,
   "id": "2f2db86c",
   "metadata": {},
   "outputs": [],
   "source": [
    "# Headers for authentication\n",
    "headers = {\n",
    "    \"Authorization\": f\"Bearer {API_KEY}\",\n",
    "    \"Content-Type\": \"application/json\"\n",
    "}"
   ]
  },
  {
   "cell_type": "code",
   "execution_count": null,
   "id": "96c75c96",
   "metadata": {},
   "outputs": [],
   "source": [
    "print(\"✅ Configuration loaded!\")\n",
    "print(f\"🌐 Base URL: {BASE_URL}\")\n",
    "print(f\"🔑 API Key: {API_KEY[:10]}...\")"
   ]
  },
  {
   "cell_type": "markdown",
   "id": "861c9647",
   "metadata": {},
   "source": [
    "============================================================================\n",
    "🗺 MACRO VIEW: WHY THIS MATTERS NOW\n",
    "============================================================================"
   ]
  },
  {
   "cell_type": "code",
   "execution_count": null,
   "id": "60289383",
   "metadata": {},
   "outputs": [],
   "source": [
    "print(\"\\n\" + \"=\" * 70)\n",
    "print(\"🗺 MACRO VIEW: Why This Matters Now\")\n",
    "print(\"=\" * 70)"
   ]
  },
  {
   "cell_type": "code",
   "execution_count": null,
   "id": "3caf6494",
   "metadata": {},
   "outputs": [],
   "source": [
    "print(\"\"\"\n",
    "🎯 ELI5: People used to search like robots (\"yogurt cake recipe\"), \n",
    "now they search like humans (\"what is the recipe for yogurt cake?\"). \n",
    "AI has to be smart enough to understand full questions, images, \n",
    "even ideas — and give a straight answer.\n",
    "\n",
    "🔄 KEY SHIFTS IN SEARCH & UX:\n",
    "\n",
    "1. **From keywords → full questions**\n",
    "   - Old: \"yogurt cake recipe\"\n",
    "   - New: \"What's a good recipe for yogurt cake that's not too sweet?\"\n",
    "\n",
    "2. **From static filters → interactive, natural filters**\n",
    "   - Old: Checkboxes for \"vegetarian\", \"gluten-free\"\n",
    "   - New: \"I'm vegetarian and allergic to nuts, what can I cook?\"\n",
    "\n",
    "3. **From static results → conversational guidance**\n",
    "   - Old: List of links\n",
    "   - New: AI works like a guide, not just a librarian\n",
    "\n",
    "❌ WHY ELASTICSEARCH ALONE WON'T CUT IT:\n",
    "\n",
    "It's like trying to find a movie by shouting a whole plot at a DVD store \n",
    "clerk who only listens for exact words.\n",
    "\"\"\")"
   ]
  },
  {
   "cell_type": "markdown",
   "id": "a576d216",
   "metadata": {},
   "source": [
    "============================================================================\n",
    "🧪 DEMONSTRATION: OLD VS NEW SEARCH PATTERNS\n",
    "============================================================================"
   ]
  },
  {
   "cell_type": "code",
   "execution_count": null,
   "id": "0e9d277c",
   "metadata": {
    "lines_to_next_cell": 1
   },
   "outputs": [],
   "source": [
    "print(\"\\n\" + \"=\" * 70)\n",
    "print(\"🧪 DEMONSTRATION: Old vs New Search Patterns\")\n",
    "print(\"=\" * 70)"
   ]
  },
  {
   "cell_type": "code",
   "execution_count": null,
   "id": "9e8eadeb",
   "metadata": {
    "lines_to_next_cell": 1
   },
   "outputs": [],
   "source": [
    "def demonstrate_search_evolution():\n",
    "    \"\"\"Demonstrate the evolution from keyword to semantic search\"\"\"\n",
    "    \n",
    "    print(\"🔍 OLD SEARCH PATTERN (Keyword-based):\")\n",
    "    print(\"-\" * 50)\n",
    "    \n",
    "    old_queries = [\n",
    "        \"yogurt cake recipe\",\n",
    "        \"vegetarian dinner\",\n",
    "        \"budget travel europe\",\n",
    "        \"python tutorial\",\n",
    "        \"project management tools\"\n",
    "    ]\n",
    "    \n",
    "    for query in old_queries:\n",
    "        print(f\"  ❌ '{query}' → Returns exact matches only\")\n",
    "    \n",
    "    print(\"\\n🤖 NEW SEARCH PATTERN (Semantic + Reasoning):\")\n",
    "    print(\"-\" * 50)\n",
    "    \n",
    "    new_queries = [\n",
    "        \"I want to bake a cake but only have yogurt and eggs, what can I make?\",\n",
    "        \"I'm vegetarian and my kids don't like spicy food, dinner ideas?\",\n",
    "        \"I have $2000 and 2 weeks, where should I travel in Europe?\",\n",
    "        \"I'm a beginner programmer, what's the best way to learn Python?\",\n",
    "        \"I need to manage a team of 5 developers, what tools should I use?\"\n",
    "    ]\n",
    "    \n",
    "    for query in new_queries:\n",
    "        print(f\"  ✅ '{query}' → AI understands context and provides guidance\")"
   ]
  },
  {
   "cell_type": "code",
   "execution_count": null,
   "id": "33fa3133",
   "metadata": {},
   "outputs": [],
   "source": [
    "demonstrate_search_evolution()"
   ]
  },
  {
   "cell_type": "markdown",
   "id": "c1dba530",
   "metadata": {},
   "source": [
    "============================================================================\n",
    "🎯 TASK 1: REAL CUSTOMER QUESTIONS\n",
    "============================================================================"
   ]
  },
  {
   "cell_type": "code",
   "execution_count": null,
   "id": "6f9b6c38",
   "metadata": {},
   "outputs": [],
   "source": [
    "print(\"\\n\" + \"=\" * 70)\n",
    "print(\"🎯 TASK 1: Real Customer Questions from Your Domain\")\n",
    "print(\"=\" * 70)"
   ]
  },
  {
   "cell_type": "code",
   "execution_count": null,
   "id": "2bd33cf4",
   "metadata": {},
   "outputs": [],
   "source": [
    "print(\"\"\"\n",
    "🎯 YOUR TASK: Write 3 real customer questions from your domain \n",
    "that would require multi-step reasoning to answer.\n",
    "\n",
    "Think about questions that:\n",
    "- Have multiple constraints or requirements\n",
    "- Need context from different sources\n",
    "- Require reasoning, not just retrieval\n",
    "- Would be impossible with traditional keyword search\n",
    "\n",
    "Examples from different domains:\n",
    "\n",
    "🏥 HEALTHCARE:\n",
    "- \"I have diabetes and high blood pressure, what exercises are safe for me?\"\n",
    "- \"My child has a fever and rash, when should I call the doctor?\"\n",
    "\n",
    "🏦 FINANCE:\n",
    "- \"I'm 25, earn $60k, and want to buy a house in 5 years, what should I do?\"\n",
    "- \"I have $10k in savings, what's the best investment strategy for my risk tolerance?\"\n",
    "\n",
    "🛒 E-COMMERCE:\n",
    "- \"I need a laptop for video editing under $1000, what's the best option?\"\n",
    "- \"I'm planning a camping trip, what gear do I need for 4 people in winter?\"\n",
    "\n",
    "💻 YOUR DOMAIN: Write 3 questions below:\n",
    "\"\"\")"
   ]
  },
  {
   "cell_type": "code",
   "execution_count": null,
   "id": "753991de",
   "metadata": {},
   "outputs": [],
   "source": [
    "# Interactive input for participants\n",
    "print(\"📝 Your 3 customer questions (replace with your actual questions):\")\n",
    "print(\"1. _________________________________________________\")\n",
    "print(\"2. _________________________________________________\")\n",
    "print(\"3. _________________________________________________\")"
   ]
  },
  {
   "cell_type": "markdown",
   "id": "0214725d",
   "metadata": {},
   "source": [
    "============================================================================\n",
    "🔍 FROM KEYWORDS TO QUESTIONS\n",
    "============================================================================"
   ]
  },
  {
   "cell_type": "code",
   "execution_count": null,
   "id": "ab8ccd0c",
   "metadata": {},
   "outputs": [],
   "source": [
    "print(\"\\n\" + \"=\" * 70)\n",
    "print(\"🔍 FROM KEYWORDS TO QUESTIONS\")\n",
    "print(\"=\" * 70)"
   ]
  },
  {
   "cell_type": "code",
   "execution_count": null,
   "id": "48de3da7",
   "metadata": {},
   "outputs": [],
   "source": [
    "print(\"\"\"\n",
    "🎯 ELI5: If old search was like looking for a book by exact title, \n",
    "new search is like asking the librarian \"What's a good book for a \n",
    "rainy Sunday that's funny and short?\"\n",
    "\n",
    "🔑 IMPLICATIONS FOR TECH TEAMS:\n",
    "\n",
    "1. **Ranking ≠ solving**\n",
    "   - Old: Find the most relevant document\n",
    "   - New: Understand the question and provide an answer\n",
    "\n",
    "2. **Semantic understanding > exact match**\n",
    "   - Old: \"python tutorial\" matches \"python tutorial\"\n",
    "   - New: \"how to learn python\" matches \"python tutorial\", \"beginner guide\", etc.\n",
    "\n",
    "3. **Need for retrieval + reasoning**\n",
    "   - Old: Find documents, user figures out the answer\n",
    "   - New: Find documents, AI reasons about them, provides answer\n",
    "\n",
    "🔄 MINI-EXERCISE: Rewrite a product search flow from your site \n",
    "into natural language queries.\n",
    "\"\"\")"
   ]
  },
  {
   "cell_type": "markdown",
   "id": "df7eac39",
   "metadata": {},
   "source": [
    "============================================================================\n",
    "🧪 MINI-EXERCISE: PRODUCT SEARCH FLOW TRANSFORMATION\n",
    "============================================================================"
   ]
  },
  {
   "cell_type": "code",
   "execution_count": null,
   "id": "be407952",
   "metadata": {
    "lines_to_next_cell": 1
   },
   "outputs": [],
   "source": [
    "print(\"\\n\" + \"=\" * 70)\n",
    "print(\"🧪 MINI-EXERCISE: Product Search Flow Transformation\")\n",
    "print(\"=\" * 70)"
   ]
  },
  {
   "cell_type": "code",
   "execution_count": null,
   "id": "37b45a6e",
   "metadata": {
    "lines_to_next_cell": 1
   },
   "outputs": [],
   "source": [
    "def demonstrate_search_flow_transformation():\n",
    "    \"\"\"Show how to transform product search flows\"\"\"\n",
    "    \n",
    "    print(\"🛒 EXAMPLE: E-commerce Product Search\")\n",
    "    print(\"-\" * 50)\n",
    "    \n",
    "    print(\"OLD FLOW (Keyword-based):\")\n",
    "    print(\"  1. User types: 'laptop'\")\n",
    "    print(\"  2. System shows: All laptops\")\n",
    "    print(\"  3. User filters: Price, brand, etc.\")\n",
    "    print(\"  4. User browses: Multiple pages\")\n",
    "    print(\"  5. User decides: Based on limited info\")\n",
    "    \n",
    "    print(\"\\nNEW FLOW (Natural Language + AI):\")\n",
    "    print(\"  1. User asks: 'I need a laptop for video editing under $1000'\")\n",
    "    print(\"  2. AI understands: Purpose, budget, requirements\")\n",
    "    print(\"  3. AI searches: Relevant products + reviews + specs\")\n",
    "    print(\"  4. AI reasons: Which options best match needs\")\n",
    "    print(\"  5. AI presents: Ranked recommendations with explanations\")\n",
    "    \n",
    "    print(\"\\n🎯 YOUR TURN: Think about a search flow from your domain...\")\n",
    "    print(\"   How would you transform it from keywords to natural language?\")"
   ]
  },
  {
   "cell_type": "code",
   "execution_count": null,
   "id": "28fa5209",
   "metadata": {},
   "outputs": [],
   "source": [
    "demonstrate_search_flow_transformation()"
   ]
  },
  {
   "cell_type": "markdown",
   "id": "b1f6e70b",
   "metadata": {},
   "source": [
    "============================================================================\n",
    "🛠 WHY CLASSIC SEARCH BREAKS\n",
    "============================================================================"
   ]
  },
  {
   "cell_type": "code",
   "execution_count": null,
   "id": "17099aed",
   "metadata": {},
   "outputs": [],
   "source": [
    "print(\"\\n\" + \"=\" * 70)\n",
    "print(\"🛠 WHY CLASSIC SEARCH BREAKS — AND MODERN AI PATTERNS\")\n",
    "print(\"=\" * 70)"
   ]
  },
  {
   "cell_type": "code",
   "execution_count": null,
   "id": "a0497b8a",
   "metadata": {},
   "outputs": [],
   "source": [
    "print(\"\"\"\n",
    "🔴 OLD STACK LIMITATIONS:\n",
    "\n",
    "- **ElasticSearch/BM25** = great for keywords\n",
    "- **Chokes on long, multi-step, conversational asks**\n",
    "- **No understanding of context or intent**\n",
    "- **Static ranking that doesn't adapt to user needs**\n",
    "\n",
    "🟢 MODERN STACK SOLUTIONS:\n",
    "\n",
    "1. **RAG (Retrieval Augmented Generation)**\n",
    "   - Pull facts + let LLM reason\n",
    "   - Like looking in the right book before answering the question\n",
    "\n",
    "2. **Add Evaluation (RAG-Triad)**\n",
    "   - Groundedness: Is the answer based on retrieved facts?\n",
    "   - Context Relevance: Are the retrieved facts relevant?\n",
    "   - Answer Relevance: Does the answer address the question?\n",
    "\n",
    "3. **Add Tools + Planning**\n",
    "   - APIs, DB queries, external services\n",
    "   - Multi-step reasoning and execution\n",
    "   - Fallback and error handling\n",
    "\"\"\")"
   ]
  },
  {
   "cell_type": "markdown",
   "id": "c70d6a8f",
   "metadata": {},
   "source": [
    "============================================================================\n",
    "🧪 DEMONSTRATION: RAG VS TRADITIONAL SEARCH\n",
    "============================================================================"
   ]
  },
  {
   "cell_type": "code",
   "execution_count": null,
   "id": "b4561e97",
   "metadata": {
    "lines_to_next_cell": 1
   },
   "outputs": [],
   "source": [
    "print(\"\\n\" + \"=\" * 70)\n",
    "print(\"🧪 DEMONSTRATION: RAG vs Traditional Search\")\n",
    "print(\"=\" * 70)"
   ]
  },
  {
   "cell_type": "code",
   "execution_count": null,
   "id": "21f1768c",
   "metadata": {
    "lines_to_next_cell": 1
   },
   "outputs": [],
   "source": [
    "def demonstrate_rag_vs_traditional():\n",
    "    \"\"\"Demonstrate RAG vs traditional search capabilities\"\"\"\n",
    "    \n",
    "    query = \"What's the best way to learn machine learning if I'm a beginner programmer?\"\n",
    "    \n",
    "    print(f\"🔍 QUERY: {query}\")\n",
    "    print()\n",
    "    \n",
    "    print(\"🔴 TRADITIONAL SEARCH (ElasticSearch):\")\n",
    "    print(\"-\" * 50)\n",
    "    print(\"  ❌ Returns: 'machine learning tutorial', 'beginner guide'\")\n",
    "    print(\"  ❌ Problem: No understanding of 'beginner programmer' context\")\n",
    "    print(\"  ❌ Result: User has to figure out what's relevant\")\n",
    "    \n",
    "    print(\"\\n🟢 RAG APPROACH:\")\n",
    "    print(\"-\" * 50)\n",
    "    print(\"  ✅ Retrieves: Relevant tutorials, skill assessments, learning paths\")\n",
    "    print(\"  ✅ Understands: 'beginner programmer' = needs programming basics first\")\n",
    "    print(\"  ✅ Reasons: ML requires math + programming, suggests prerequisites\")\n",
    "    print(\"  ✅ Provides: Structured learning path with explanations\")\n",
    "    \n",
    "    print(\"\\n🎯 KEY DIFFERENCE:\")\n",
    "    print(\"  Traditional: Find documents, user figures it out\")\n",
    "    print(\"  RAG: Find documents, AI reasons about them, provides answer\")"
   ]
  },
  {
   "cell_type": "code",
   "execution_count": null,
   "id": "a8ade6e1",
   "metadata": {},
   "outputs": [],
   "source": [
    "demonstrate_rag_vs_traditional()"
   ]
  },
  {
   "cell_type": "markdown",
   "id": "a2c7b363",
   "metadata": {},
   "source": [
    "============================================================================\n",
    "📝 PART 1 SUMMARY\n",
    "============================================================================"
   ]
  },
  {
   "cell_type": "code",
   "execution_count": null,
   "id": "d3a014e9",
   "metadata": {},
   "outputs": [],
   "source": [
    "print(\"\\n\" + \"=\" * 70)\n",
    "print(\"📝 PART 1 SUMMARY\")\n",
    "print(\"=\" * 70)"
   ]
  },
  {
   "cell_type": "code",
   "execution_count": null,
   "id": "3b8879ce",
   "metadata": {},
   "outputs": [],
   "source": [
    "print(\"\"\"\n",
    "✅ WHAT WE COVERED:\n",
    "\n",
    "1. **Macro View**: Why search evolution matters now\n",
    "   - From keywords to full questions\n",
    "   - From static filters to natural language\n",
    "   - From results to conversational guidance\n",
    "\n",
    "2. **Search Evolution**: Keywords → Questions → Reasoning\n",
    "   - Ranking ≠ solving\n",
    "   - Semantic understanding > exact match\n",
    "   - Need for retrieval + reasoning\n",
    "\n",
    "3. **Modern AI Patterns**: RAG + Evaluation + Tools\n",
    "   - RAG: Pull facts + let LLM reason\n",
    "   - RAG-Triad: Groundedness, context relevance, answer relevance\n",
    "   - Tools: APIs, DB queries, planning\n",
    "\n",
    "🎯 KEY INSIGHTS:\n",
    "\n",
    "- **ElasticSearch alone won't cut it** for modern user expectations\n",
    "- **Users expect answers, not links**\n",
    "- **AI needs to work like a guide, not a librarian**\n",
    "- **Multi-step reasoning is essential**\n",
    "\n",
    "🚀 NEXT UP: Why Agentic Systems Matter!\n",
    "\n",
    "In Part 2, you'll learn:\n",
    "- What makes a system \"agentic\"\n",
    "- Types of memory and reasoning\n",
    "- How agents can use tools and plan\n",
    "- Real-world agentic system examples\n",
    "\"\"\")"
   ]
  },
  {
   "cell_type": "code",
   "execution_count": null,
   "id": "9779158a",
   "metadata": {},
   "outputs": [],
   "source": [
    "print(\"\\n🎉 Part 1 Complete! Ready for Part 2: Why Agentic Systems Matter?\")"
   ]
  },
  {
   "cell_type": "markdown",
   "id": "c339ecf2",
   "metadata": {},
   "source": [
    "============================================================================\n",
    "🎯 HANDS-ON PREPARATION\n",
    "============================================================================"
   ]
  },
  {
   "cell_type": "code",
   "execution_count": null,
   "id": "bb909027",
   "metadata": {},
   "outputs": [],
   "source": [
    "print(\"\\n\" + \"=\" * 70)\n",
    "print(\"🎯 HANDS-ON PREPARATION\")\n",
    "print(\"=\" * 70)"
   ]
  },
  {
   "cell_type": "code",
   "execution_count": null,
   "id": "d9d8fb89",
   "metadata": {},
   "outputs": [],
   "source": [
    "print(\"\"\"\n",
    "💡 BEFORE PART 2, THINK ABOUT:\n",
    "\n",
    "1. **Your Customer Questions**: Have you written down 3 real questions?\n",
    "2. **Search Flow Transformation**: How would you change your current search?\n",
    "3. **RAG Applications**: Where could RAG help in your domain?\n",
    "\n",
    "🧪 OPTIONAL: Test your current search system with the new query patterns\n",
    "   to see where it breaks down.\n",
    "\n",
    "📚 RESOURCES:\n",
    "- [RAG Paper](https://arxiv.org/abs/2005.11401)\n",
    "- [RAG-Triad Evaluation](https://arxiv.org/abs/2309.15217)\n",
    "- [Search Evolution Trends](https://searchengineland.com/)\n",
    "\n",
    "🚀 See you in Part 2! 🎯\n",
    "\"\"\")"
   ]
  }
 ],
 "metadata": {
  "jupytext": {
   "cell_metadata_filter": "-all",
   "executable": "/usr/bin/env python3",
   "main_language": "python",
   "notebook_metadata_filter": "-all"
  }
 },
 "nbformat": 4,
 "nbformat_minor": 5
}
