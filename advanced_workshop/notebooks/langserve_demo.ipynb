{
 "cells": [
  {
   "cell_type": "code",
   "execution_count": null,
   "id": "e3a38aa4",
   "metadata": {},
   "outputs": [],
   "source": [
    "\"\"\"\n",
    "🌐 LangServe Demo: Production Deployment\n",
    "Duration: ~20 minutes\n",
    "Level: Intermediate/Advanced\n",
    "\n",
    "IMPORTANT: Make sure your virtual environment is activated!\n",
    "\"\"\""
   ]
  },
  {
   "cell_type": "code",
   "execution_count": null,
   "id": "547291c7",
   "metadata": {},
   "outputs": [],
   "source": [
    "import os\n",
    "import requests\n",
    "import json\n",
    "from typing import Dict, Any, List, Optional\n",
    "from datetime import datetime\n",
    "from dotenv import load_dotenv"
   ]
  },
  {
   "cell_type": "code",
   "execution_count": null,
   "id": "9d8ac76e",
   "metadata": {},
   "outputs": [],
   "source": [
    "# Load environment variables\n",
    "load_dotenv()"
   ]
  },
  {
   "cell_type": "markdown",
   "id": "ad7ea974",
   "metadata": {},
   "source": [
    "============================================================================\n",
    "🌐 LANGSERVE DEMO: PRODUCTION DEPLOYMENT\n",
    "============================================================================"
   ]
  },
  {
   "cell_type": "code",
   "execution_count": null,
   "id": "600c5fc0",
   "metadata": {},
   "outputs": [],
   "source": [
    "print(\"🌐 LANGSERVE DEMO: Production Deployment\")\n",
    "print(\"=\" * 70)\n",
    "print(\"Duration: ~20 minutes | Level: Intermediate/Advanced\")\n",
    "print(\"=\" * 70)"
   ]
  },
  {
   "cell_type": "markdown",
   "id": "6b6de0c0",
   "metadata": {},
   "source": [
    "============================================================================\n",
    "🔑 LANGSERVE CONFIGURATION\n",
    "============================================================================"
   ]
  },
  {
   "cell_type": "code",
   "execution_count": null,
   "id": "56b15c58",
   "metadata": {},
   "outputs": [],
   "source": [
    "print(\"\\n🔑 Setting up LangServe configuration...\")"
   ]
  },
  {
   "cell_type": "code",
   "execution_count": null,
   "id": "4bdad283",
   "metadata": {},
   "outputs": [],
   "source": [
    "# LangServe configuration from environment variables\n",
    "BASE_URL = os.getenv(\"BASE_URL\", \"https://yylh5vmmm0.execute-api.eu-central-1.amazonaws.com/prod\")\n",
    "API_KEY = os.getenv(\"API_KEY\", \"ALI-CLASS-2025\")\n",
    "DEFAULT_MODEL = os.getenv(\"DEFAULT_MODEL\", \"gpt-3.5-turbo\")\n",
    "DEPLOYMENT_PORT = os.getenv(\"DEPLOYMENT_PORT\", \"8000\")\n",
    "DEPLOYMENT_HOST = os.getenv(\"DEPLOYMENT_HOST\", \"0.0.0.0\")"
   ]
  },
  {
   "cell_type": "code",
   "execution_count": null,
   "id": "438fc892",
   "metadata": {},
   "outputs": [],
   "source": [
    "print(\"✅ LangServe configuration loaded!\")\n",
    "print(f\"🌐 Base URL: {BASE_URL}\")\n",
    "print(f\"🔑 API Key: {API_KEY[:10]}...\")\n",
    "print(f\"🤖 Default Model: {DEFAULT_MODEL}\")\n",
    "print(f\"🚀 Deployment Host: {DEPLOYMENT_HOST}\")\n",
    "print(f\"🔌 Deployment Port: {DEPLOYMENT_PORT}\")"
   ]
  },
  {
   "cell_type": "markdown",
   "id": "1ecaa92c",
   "metadata": {},
   "source": [
    "============================================================================\n",
    "🎯 WHAT IS LANGSERVE?\n",
    "============================================================================"
   ]
  },
  {
   "cell_type": "code",
   "execution_count": null,
   "id": "56055d3b",
   "metadata": {},
   "outputs": [],
   "source": [
    "print(\"\\n\" + \"=\" * 70)\n",
    "print(\"🎯 WHAT IS LANGSERVE?\")\n",
    "print(\"=\" * 70)"
   ]
  },
  {
   "cell_type": "code",
   "execution_count": null,
   "id": "039df14c",
   "metadata": {},
   "outputs": [],
   "source": [
    "print(\"\"\"\n",
    "🌐 LANGSERVE: Production Deployment for LangChain Applications\n",
    "\n",
    "🎯 ELI5: LangServe is like turning your Lego creation into a web service\n",
    "that others can use. It wraps your agent in a FastAPI server with\n",
    "automatic API documentation, authentication, and scaling.\n",
    "\n",
    "🔑 KEY FEATURES:\n",
    "\n",
    "1. **FastAPI Integration**: Automatic REST API generation\n",
    "2. **Multi-Channel Support**: Web, WhatsApp, mobile, etc.\n",
    "3. **Session Management**: Handle user conversations\n",
    "4. **Authentication**: Secure your endpoints\n",
    "5. **Scaling**: Handle multiple users and requests\n",
    "6. **Monitoring**: Built-in observability and logging\n",
    "\n",
    "🔄 HOW IT WORKS:\n",
    "\n",
    "1. **Wrap** your LangChain agent/graph with LangServe\n",
    "2. **Deploy** as a FastAPI web service\n",
    "3. **Handle** multiple user sessions\n",
    "4. **Scale** with load balancers and containers\n",
    "5. **Monitor** with built-in observability\n",
    "\n",
    "💡 BUSINESS VALUE:\n",
    "\n",
    "- **Rapid Deployment**: Go from prototype to production in minutes\n",
    "- **Multi-Channel**: Serve web, mobile, and messaging platforms\n",
    "- **Scalability**: Handle thousands of concurrent users\n",
    "- **Security**: Built-in authentication and rate limiting\n",
    "- **Monitoring**: Track usage, performance, and costs\n",
    "\"\"\")"
   ]
  },
  {
   "cell_type": "markdown",
   "id": "5c5a8741",
   "metadata": {},
   "source": [
    "============================================================================\n",
    "🧪 DEMONSTRATION: LANGSERVE DEPLOYMENT\n",
    "============================================================================"
   ]
  },
  {
   "cell_type": "code",
   "execution_count": null,
   "id": "e7ab7b0a",
   "metadata": {
    "lines_to_next_cell": 1
   },
   "outputs": [],
   "source": [
    "print(\"\\n\" + \"=\" * 70)\n",
    "print(\"🧪 DEMONSTRATION: LangServe Deployment\")\n",
    "print(\"=\" * 70)"
   ]
  },
  {
   "cell_type": "code",
   "execution_count": null,
   "id": "4ba94a22",
   "metadata": {
    "lines_to_next_cell": 1
   },
   "outputs": [],
   "source": [
    "def demonstrate_langserve_deployment():\n",
    "    \"\"\"Demonstrate how LangServe deployment works\"\"\"\n",
    "    \n",
    "    print(\"🌐 LANGSERVE DEPLOYMENT EXAMPLE:\")\n",
    "    print(\"-\" * 50)\n",
    "    \n",
    "    # Simulate deployment steps\n",
    "    deployment_steps = [\n",
    "        {\n",
    "            \"step\": \"1. Create Agent\",\n",
    "            \"description\": \"Build your LangChain agent with tools and memory\",\n",
    "            \"code\": \"agent = create_agent_with_tools()\"\n",
    "        },\n",
    "        {\n",
    "            \"step\": \"2. Wrap with LangServe\",\n",
    "            \"description\": \"Convert agent to FastAPI service\",\n",
    "            \"code\": \"app = FastAPI()\\nadd_routes(app, agent)\"\n",
    "        },\n",
    "        {\n",
    "            \"step\": \"3. Add Authentication\",\n",
    "            \"description\": \"Secure your endpoints\",\n",
    "            \"code\": \"app.add_middleware(AuthMiddleware)\"\n",
    "        },\n",
    "        {\n",
    "            \"step\": \"4. Deploy\",\n",
    "            \"description\": \"Launch as web service\",\n",
    "            \"code\": f\"uvicorn app:app --host {DEPLOYMENT_HOST} --port {DEPLOYMENT_PORT}\"\n",
    "        },\n",
    "        {\n",
    "            \"step\": \"5. Test API\",\n",
    "            \"description\": \"Verify endpoints work\",\n",
    "            \"code\": f\"curl -X POST http://localhost:{DEPLOYMENT_PORT}/invoke -d '{{\\\"input\\\": \\\"Hello\\\"}}'\"\n",
    "        }\n",
    "    ]\n",
    "    \n",
    "    print(\"📊 DEPLOYMENT STEPS:\")\n",
    "    for step in deployment_steps:\n",
    "        print(f\"\\n{step['step']}\")\n",
    "        print(f\"   Description: {step['description']}\")\n",
    "        print(f\"   Code: {step['code']}\")\n",
    "    \n",
    "    print(\"\\n🎯 WHAT YOU GET:\")\n",
    "    print(\"  ✅ REST API with automatic documentation\")\n",
    "    print(\"  ✅ Session management for conversations\")\n",
    "    print(\"  ✅ Authentication and rate limiting\")\n",
    "    print(\"  ✅ Health checks and monitoring\")\n",
    "    print(\"  ✅ Easy scaling with containers\")"
   ]
  },
  {
   "cell_type": "code",
   "execution_count": null,
   "id": "5f7c5164",
   "metadata": {},
   "outputs": [],
   "source": [
    "demonstrate_langserve_deployment()"
   ]
  },
  {
   "cell_type": "markdown",
   "id": "bfa19576",
   "metadata": {},
   "source": [
    "============================================================================\n",
    "🔧 LANGSERVE SETUP AND USAGE\n",
    "============================================================================"
   ]
  },
  {
   "cell_type": "code",
   "execution_count": null,
   "id": "dc7f827a",
   "metadata": {},
   "outputs": [],
   "source": [
    "print(\"\\n\" + \"=\" * 70)\n",
    "print(\"🔧 LANGSERVE SETUP AND USAGE\")\n",
    "print(\"=\" * 70)"
   ]
  },
  {
   "cell_type": "code",
   "execution_count": null,
   "id": "b3ad10e7",
   "metadata": {},
   "outputs": [],
   "source": [
    "print(\"\"\"\n",
    "🛠 SETUP STEPS:\n",
    "\n",
    "1. **Install Dependencies**\n",
    "   ```bash\n",
    "   pip install langserve fastapi uvicorn\n",
    "   ```\n",
    "\n",
    "2. **Create Your Agent**\n",
    "   ```python\n",
    "   from langchain.agents import create_agent\n",
    "   from langchain.tools import Tool\n",
    "   \n",
    "   # Create your agent with tools\n",
    "   agent = create_agent(llm, tools, memory)\n",
    "   ```\n",
    "\n",
    "3. **Wrap with LangServe**\n",
    "   ```python\n",
    "   from fastapi import FastAPI\n",
    "   from langserve import add_routes\n",
    "   \n",
    "   app = FastAPI(title=\"My Agent API\")\n",
    "   add_routes(app, agent, path=\"/agent\")\n",
    "   ```\n",
    "\n",
    "4. **Add Middleware (Optional)**\n",
    "   ```python\n",
    "   from fastapi.middleware.cors import CORSMiddleware\n",
    "   \n",
    "   app.add_middleware(\n",
    "       CORSMiddleware,\n",
    "       allow_origins=[\"*\"],\n",
    "       allow_credentials=True,\n",
    "       allow_methods=[\"*\"],\n",
    "       allow_headers=[\"*\"],\n",
    "   )\n",
    "   ```\n",
    "\n",
    "5. **Deploy**\n",
    "   ```bash\n",
    "   uvicorn app:app --host 0.0.0.0 --port 8000\n",
    "   ```\n",
    "\n",
    "📊 AUTOMATIC API FEATURES:\n",
    "\n",
    "- **OpenAPI Documentation**: Available at `/docs`\n",
    "- **Health Checks**: Available at `/health`\n",
    "- **Session Management**: Automatic conversation tracking\n",
    "- **Error Handling**: Graceful error responses\n",
    "- **Request Validation**: Automatic input validation\n",
    "- **Response Serialization**: JSON responses\n",
    "\"\"\")"
   ]
  },
  {
   "cell_type": "markdown",
   "id": "4e7e9ed2",
   "metadata": {},
   "source": [
    "============================================================================\n",
    "🌍 MULTI-CHANNEL DEPLOYMENT\n",
    "============================================================================"
   ]
  },
  {
   "cell_type": "code",
   "execution_count": null,
   "id": "96071cca",
   "metadata": {},
   "outputs": [],
   "source": [
    "print(\"\\n\" + \"=\" * 70)\n",
    "print(\"🌍 MULTI-CHANNEL DEPLOYMENT\")\n",
    "print(\"=\" * 70)"
   ]
  },
  {
   "cell_type": "code",
   "execution_count": null,
   "id": "1ddc59ea",
   "metadata": {},
   "outputs": [],
   "source": [
    "print(\"\"\"\n",
    "🎯 MULTI-CHANNEL SUPPORT:\n",
    "\n",
    "LangServe makes it easy to deploy your agent across multiple channels:\n",
    "\n",
    "1. **Web Application**\n",
    "   ```python\n",
    "   # Frontend calls your API\n",
    "   fetch('/agent/invoke', {\n",
    "     method: 'POST',\n",
    "     body: JSON.stringify({input: userMessage})\n",
    "   })\n",
    "   ```\n",
    "\n",
    "2. **Mobile App**\n",
    "   ```python\n",
    "   # Mobile app calls same API\n",
    "   requests.post('/agent/invoke', json={'input': userMessage})\n",
    "   ```\n",
    "\n",
    "3. **WhatsApp Integration**\n",
    "   ```python\n",
    "   # WhatsApp webhook calls your API\n",
    "   @app.post(\"/whatsapp/webhook\")\n",
    "   def whatsapp_webhook(message):\n",
    "       response = agent.invoke({\"input\": message.text})\n",
    "       send_whatsapp_message(message.from_user, response)\n",
    "   ```\n",
    "\n",
    "4. **Slack Bot**\n",
    "   ```python\n",
    "   # Slack app calls your API\n",
    "   @app.post(\"/slack/command\")\n",
    "   def slack_command(command):\n",
    "       response = agent.invoke({\"input\": command.text})\n",
    "       return {\"text\": response}\n",
    "   ```\n",
    "\n",
    "5. **Voice Assistant**\n",
    "   ```python\n",
    "   # Voice app calls your API\n",
    "   @app.post(\"/voice/process\")\n",
    "   def voice_process(audio):\n",
    "       text = speech_to_text(audio)\n",
    "       response = agent.invoke({\"input\": text})\n",
    "       return text_to_speech(response)\n",
    "   ```\n",
    "\n",
    "💡 BENEFITS:\n",
    "\n",
    "- **Single Codebase**: One agent serves all channels\n",
    "- **Consistent Experience**: Same logic across platforms\n",
    "- **Easy Maintenance**: Update once, deploy everywhere\n",
    "- **Cost Effective**: Shared infrastructure and resources\n",
    "\"\"\")"
   ]
  },
  {
   "cell_type": "markdown",
   "id": "c41f8f55",
   "metadata": {},
   "source": [
    "============================================================================\n",
    "🔒 PRODUCTION CONSIDERATIONS\n",
    "============================================================================"
   ]
  },
  {
   "cell_type": "code",
   "execution_count": null,
   "id": "347e490b",
   "metadata": {},
   "outputs": [],
   "source": [
    "print(\"\\n\" + \"=\" * 70)\n",
    "print(\"🔒 PRODUCTION CONSIDERATIONS\")\n",
    "print(\"=\" * 70)"
   ]
  },
  {
   "cell_type": "code",
   "execution_count": null,
   "id": "06e297a6",
   "metadata": {},
   "outputs": [],
   "source": [
    "print(\"\"\"\n",
    "🛡️ PRODUCTION READINESS:\n",
    "\n",
    "1. **Authentication & Authorization**\n",
    "   ```python\n",
    "   from fastapi import Depends, HTTPException\n",
    "   from fastapi.security import HTTPBearer\n",
    "   \n",
    "   security = HTTPBearer()\n",
    "   \n",
    "   def verify_token(token: str = Depends(security)):\n",
    "       if not validate_token(token.credentials):\n",
    "           raise HTTPException(status_code=401)\n",
    "       return token.credentials\n",
    "   \n",
    "   @app.post(\"/agent/invoke\")\n",
    "   def invoke_agent(input_data: dict, token: str = Depends(verify_token)):\n",
    "       return agent.invoke(input_data)\n",
    "   ```\n",
    "\n",
    "2. **Rate Limiting**\n",
    "   ```python\n",
    "   from slowapi import Limiter, _rate_limit_exceeded_handler\n",
    "   from slowapi.util import get_remote_address\n",
    "   \n",
    "   limiter = Limiter(key_func=get_remote_address)\n",
    "   app.state.limiter = limiter\n",
    "   \n",
    "   @app.post(\"/agent/invoke\")\n",
    "   @limiter.limit(\"10/minute\")\n",
    "   def invoke_agent(request: Request, input_data: dict):\n",
    "       return agent.invoke(input_data)\n",
    "   ```\n",
    "\n",
    "3. **Error Handling**\n",
    "   ```python\n",
    "   from fastapi import HTTPException\n",
    "   \n",
    "   @app.exception_handler(Exception)\n",
    "   async def global_exception_handler(request: Request, exc: Exception):\n",
    "       logger.error(f\"Global exception: {exc}\")\n",
    "       return JSONResponse(\n",
    "           status_code=500,\n",
    "           content={\"error\": \"Internal server error\"}\n",
    "       )\n",
    "   ```\n",
    "\n",
    "4. **Monitoring & Logging**\n",
    "   ```python\n",
    "   import logging\n",
    "   from fastapi import Request\n",
    "   \n",
    "   @app.middleware(\"http\")\n",
    "   async def log_requests(request: Request, call_next):\n",
    "       start_time = time.time()\n",
    "       response = await call_next(request)\n",
    "       process_time = time.time() - start_time\n",
    "       \n",
    "       logger.info(f\"{request.method} {request.url} - {response.status_code} - {process_time:.3f}s\")\n",
    "       return response\n",
    "   ```\n",
    "\n",
    "5. **Health Checks**\n",
    "   ```python\n",
    "   @app.get(\"/health\")\n",
    "   def health_check():\n",
    "       return {\"status\": \"healthy\", \"timestamp\": datetime.now()}\n",
    "   \n",
    "   @app.get(\"/health/ready\")\n",
    "   def readiness_check():\n",
    "       # Check database, external services, etc.\n",
    "       return {\"status\": \"ready\"}\n",
    "   ```\n",
    "\n",
    "6. **Scaling with Docker**\n",
    "   ```dockerfile\n",
    "   FROM python:3.9-slim\n",
    "   \n",
    "   WORKDIR /app\n",
    "   COPY requirements.txt .\n",
    "   RUN pip install -r requirements.txt\n",
    "   \n",
    "   COPY . .\n",
    "   EXPOSE 8000\n",
    "   \n",
    "   CMD [\"uvicorn\", \"app:app\", \"--host\", \"0.0.0.0\", \"--port\", \"8000\"]\n",
    "   ```\n",
    "\"\"\")"
   ]
  },
  {
   "cell_type": "markdown",
   "id": "8a523fdd",
   "metadata": {},
   "source": [
    "============================================================================\n",
    "🎯 LANGSERVE USE CASES\n",
    "============================================================================"
   ]
  },
  {
   "cell_type": "code",
   "execution_count": null,
   "id": "a3c62b77",
   "metadata": {},
   "outputs": [],
   "source": [
    "print(\"\\n\" + \"=\" * 70)\n",
    "print(\"🎯 LANGSERVE USE CASES\")\n",
    "print(\"=\" * 70)"
   ]
  },
  {
   "cell_type": "code",
   "execution_count": null,
   "id": "ff984e6a",
   "metadata": {},
   "outputs": [],
   "source": [
    "print(\"\"\"\n",
    "🌍 REAL-WORLD APPLICATIONS:\n",
    "\n",
    "1. **Customer Service Platform**\n",
    "   - Web chat widget\n",
    "   - Mobile app integration\n",
    "   - WhatsApp Business API\n",
    "   - Slack workspace bot\n",
    "   - Voice assistant integration\n",
    "\n",
    "2. **E-commerce Assistant**\n",
    "   - Product recommendation API\n",
    "   - Shopping cart assistance\n",
    "   - Order tracking bot\n",
    "   - Customer support chatbot\n",
    "   - Voice shopping assistant\n",
    "\n",
    "3. **Healthcare Portal**\n",
    "   - Patient symptom checker\n",
    "   - Appointment scheduling\n",
    "   - Medication reminders\n",
    "   - Health education bot\n",
    "   - Telemedicine assistant\n",
    "\n",
    "4. **Financial Services**\n",
    "   - Investment advisor API\n",
    "   - Budget planning assistant\n",
    "   - Fraud detection system\n",
    "   - Customer onboarding bot\n",
    "   - Voice banking assistant\n",
    "\n",
    "5. **Educational Platform**\n",
    "   - Tutoring assistant API\n",
    "   - Homework help bot\n",
    "   - Course recommendation system\n",
    "   - Student support chatbot\n",
    "   - Voice learning assistant\n",
    "\n",
    "💡 BUSINESS BENEFITS:\n",
    "\n",
    "- **Rapid Deployment**: From prototype to production in hours\n",
    "- **Multi-Channel Reach**: Serve customers wherever they are\n",
    "- **Scalable Infrastructure**: Handle growth automatically\n",
    "- **Cost Effective**: Shared resources across channels\n",
    "- **Easy Maintenance**: Single codebase for all platforms\n",
    "\"\"\")"
   ]
  },
  {
   "cell_type": "markdown",
   "id": "2130e97f",
   "metadata": {},
   "source": [
    "============================================================================\n",
    "🧪 HANDS-ON EXERCISE\n",
    "============================================================================"
   ]
  },
  {
   "cell_type": "code",
   "execution_count": null,
   "id": "225a8f94",
   "metadata": {},
   "outputs": [],
   "source": [
    "print(\"\\n\" + \"=\" * 70)\n",
    "print(\"🧪 HANDS-ON EXERCISE\")\n",
    "print(\"=\" * 70)"
   ]
  },
  {
   "cell_type": "code",
   "execution_count": null,
   "id": "7d407e7a",
   "metadata": {},
   "outputs": [],
   "source": [
    "print(\"\"\"\n",
    "🎯 YOUR TASK: Design a LangServe deployment strategy for your agentic system.\n",
    "\n",
    "Think about:\n",
    "1. **What channels** would you support?\n",
    "2. **What authentication** would you need?\n",
    "3. **What scaling** requirements do you have?\n",
    "4. **What monitoring** would you implement?\n",
    "\n",
    "Example Framework:\n",
    "\n",
    "🏥 HEALTHCARE USE CASE:\n",
    "Channels: Web portal, mobile app, WhatsApp, voice assistant\n",
    "Authentication: OAuth2 with patient data access controls\n",
    "Scaling: Auto-scaling based on patient volume\n",
    "Monitoring: Response time, accuracy, compliance tracking\n",
    "\n",
    "💻 YOUR USE CASE: Fill in the framework below:\n",
    "\"\"\")"
   ]
  },
  {
   "cell_type": "code",
   "execution_count": null,
   "id": "3bd0a5c5",
   "metadata": {},
   "outputs": [],
   "source": [
    "# Interactive input for participants\n",
    "print(\"📝 Your LangServe Deployment Strategy:\")\n",
    "print(\"Channels: _________________________________________________\")\n",
    "print(\"Authentication: _________________________________________________\")\n",
    "print(\"Scaling: _________________________________________________\")\n",
    "print(\"Monitoring: _________________________________________________\")"
   ]
  },
  {
   "cell_type": "markdown",
   "id": "32e1742d",
   "metadata": {},
   "source": [
    "============================================================================\n",
    "📝 LANGSERVE SUMMARY\n",
    "============================================================================"
   ]
  },
  {
   "cell_type": "code",
   "execution_count": null,
   "id": "1f9d1d81",
   "metadata": {},
   "outputs": [],
   "source": [
    "print(\"\\n\" + \"=\" * 70)\n",
    "print(\"📝 LANGSERVE SUMMARY\")\n",
    "print(\"=\" * 70)"
   ]
  },
  {
   "cell_type": "code",
   "execution_count": null,
   "id": "f7c0b0c4",
   "metadata": {},
   "outputs": [],
   "source": [
    "print(\"\"\"\n",
    "✅ WHAT WE COVERED:\n",
    "\n",
    "1. **LangServe Overview**\n",
    "   - Production deployment for LangChain applications\n",
    "   - FastAPI integration with automatic API generation\n",
    "\n",
    "2. **Key Features**\n",
    "   - Multi-channel support (web, mobile, messaging)\n",
    "   - Session management and authentication\n",
    "   - Automatic scaling and monitoring\n",
    "\n",
    "3. **Setup and Usage**\n",
    "   - Simple agent wrapping with LangServe\n",
    "   - FastAPI deployment and configuration\n",
    "   - Production-ready middleware and security\n",
    "\n",
    "4. **Business Applications**\n",
    "   - Customer service platforms\n",
    "   - E-commerce assistants\n",
    "   - Healthcare and financial services\n",
    "   - Educational and enterprise applications\n",
    "\n",
    "🎯 KEY INSIGHTS:\n",
    "\n",
    "- **LangServe simplifies** production deployment\n",
    "- **Multi-channel support** maximizes reach\n",
    "- **Built-in features** handle common production needs\n",
    "- **Easy scaling** supports business growth\n",
    "- **Security and monitoring** ensure reliability\n",
    "\n",
    "🚀 READY FOR PRODUCTION!\n",
    "\n",
    "You now have the complete LangChain ecosystem:\n",
    "- **LangChain**: Build agents and tools\n",
    "- **LangGraph**: Create complex workflows\n",
    "- **LangSmith**: Monitor and evaluate\n",
    "- **LangServe**: Deploy to production\n",
    "\"\"\")"
   ]
  },
  {
   "cell_type": "code",
   "execution_count": null,
   "id": "6c37b9b6",
   "metadata": {},
   "outputs": [],
   "source": [
    "print(\"\\n🎉 LangServe Demo Complete! Ready for Production!\")"
   ]
  },
  {
   "cell_type": "markdown",
   "id": "74007da8",
   "metadata": {},
   "source": [
    "============================================================================\n",
    "🎯 NEXT STEPS\n",
    "============================================================================"
   ]
  },
  {
   "cell_type": "code",
   "execution_count": null,
   "id": "846befdc",
   "metadata": {},
   "outputs": [],
   "source": [
    "print(\"\\n\" + \"=\" * 70)\n",
    "print(\"🎯 NEXT STEPS\")\n",
    "print(\"=\" * 70)"
   ]
  },
  {
   "cell_type": "code",
   "execution_count": null,
   "id": "b4530faf",
   "metadata": {},
   "outputs": [],
   "source": [
    "print(\"\"\"\n",
    "💡 TO GET STARTED WITH LANGSERVE:\n",
    "\n",
    "1. **Install dependencies**: `pip install langserve fastapi uvicorn`\n",
    "2. **Create your agent** with LangChain/LangGraph\n",
    "3. **Wrap with LangServe** and add routes\n",
    "4. **Add middleware** for authentication and monitoring\n",
    "5. **Deploy locally** with `uvicorn app:app --host 0.0.0.0 --port 8000`\n",
    "6. **Test your API** at `http://localhost:8000/docs`\n",
    "7. **Deploy to production** with Docker/cloud services\n",
    "\n",
    "📚 RESOURCES:\n",
    "- [LangServe Documentation](https://python.langchain.com/docs/langserve/)\n",
    "- [FastAPI Documentation](https://fastapi.tiangolo.com/)\n",
    "- [Deployment Guide](https://python.langchain.com/docs/langserve/deploy/)\n",
    "- [Best Practices](https://python.langchain.com/docs/langserve/best-practices/)\n",
    "\n",
    "🚀 You're ready to build and deploy production AI systems! 🎯\n",
    "\"\"\")"
   ]
  }
 ],
 "metadata": {
  "jupytext": {
   "cell_metadata_filter": "-all",
   "executable": "/usr/bin/env python3",
   "main_language": "python",
   "notebook_metadata_filter": "-all"
  }
 },
 "nbformat": 4,
 "nbformat_minor": 5
}
