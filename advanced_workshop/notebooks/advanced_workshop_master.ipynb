{
 "cells": [
  {
   "cell_type": "code",
   "execution_count": null,
   "id": "9709fedc",
   "metadata": {},
   "outputs": [],
   "source": [
    "\"\"\"\n",
    "🚀 Advanced LLM Workshop: Complete Master Edition\n",
    "Duration: 3 hours\n",
    "Level: Intermediate/Advanced\n",
    "Audience: Technical IT teams (UI, backend, full stack, data scientists, PO, PM, scrum master)\n",
    "\n",
    "IMPORTANT: Make sure your virtual environment is activated!\n",
    "If you haven't set up the environment yet, run: python3 ../basic_workshop/scripts/workshop_setup.py\n",
    "\n",
    "This master file combines all advanced workshop parts:\n",
    "- Part 1: Macro View & Search Evolution\n",
    "- Part 2: Why Agentic Systems Matter\n",
    "- Part 3: Library vs Framework vs Platform (Coming Soon)\n",
    "- Part 4: Hands-on Labs (Coming Soon)\n",
    "\"\"\""
   ]
  },
  {
   "cell_type": "code",
   "execution_count": null,
   "id": "e83f14ce",
   "metadata": {},
   "outputs": [],
   "source": [
    "import requests\n",
    "import json\n",
    "import os\n",
    "from typing import Dict, Any, List, Optional\n",
    "from datetime import datetime\n",
    "from dotenv import load_dotenv"
   ]
  },
  {
   "cell_type": "code",
   "execution_count": null,
   "id": "50092cc3",
   "metadata": {},
   "outputs": [],
   "source": [
    "# Load environment variables\n",
    "load_dotenv()"
   ]
  },
  {
   "cell_type": "markdown",
   "id": "ac4d7dca",
   "metadata": {},
   "source": [
    "============================================================================\n",
    "🎯 ADVANCED WORKSHOP OVERVIEW\n",
    "============================================================================"
   ]
  },
  {
   "cell_type": "code",
   "execution_count": null,
   "id": "c17bbce3",
   "metadata": {},
   "outputs": [],
   "source": [
    "print(\"🚀 ADVANCED LLM WORKSHOP: COMPLETE MASTER EDITION\")\n",
    "print(\"=\" * 70)\n",
    "print(\"Duration: 3 hours | Level: Intermediate/Advanced\")\n",
    "print(\"Audience: Technical IT teams (UI, backend, full stack, data scientists, PO, PM, scrum master)\")\n",
    "print(\"=\" * 70)"
   ]
  },
  {
   "cell_type": "code",
   "execution_count": null,
   "id": "e38315bb",
   "metadata": {},
   "outputs": [],
   "source": [
    "print(\"\"\"\n",
    "🎯 What You'll Learn:\n",
    "\n",
    "Part 1: Macro View & Search Evolution (30 min)\n",
    "- Why search evolution matters now\n",
    "- From keywords to questions to reasoning\n",
    "- Modern AI patterns (RAG, evaluation, tools)\n",
    "\n",
    "Part 2: Why Agentic Systems Matter (30 min)\n",
    "- What makes a system \"agentic\"\n",
    "- Memory types and reasoning capabilities\n",
    "- Agentic system architecture and examples\n",
    "\n",
    "Part 3: Library vs Framework vs Platform (30 min)\n",
    "- LangChain, LangGraph, LangSmith overview\n",
    "- How to choose the right tools\n",
    "- Hands-on setup and configuration\n",
    "\n",
    "Part 4: Hands-on Labs (90 min)\n",
    "- Lab A: Hello Agent in LangChain\n",
    "- Lab B: Form-filling Chatbot in LangGraph\n",
    "- Observability & Evaluation with LangSmith\n",
    "- Production deployment with LangServe\n",
    "\n",
    "Let's get started! 🎉\n",
    "\"\"\")"
   ]
  },
  {
   "cell_type": "markdown",
   "id": "28782705",
   "metadata": {},
   "source": [
    "============================================================================\n",
    "🔑 YOUR API CONFIGURATION\n",
    "============================================================================"
   ]
  },
  {
   "cell_type": "code",
   "execution_count": null,
   "id": "339b333a",
   "metadata": {},
   "outputs": [],
   "source": [
    "print(\"\\n\" + \"=\" * 70)\n",
    "print(\"🔑 YOUR API CONFIGURATION\")\n",
    "print(\"=\" * 70)"
   ]
  },
  {
   "cell_type": "code",
   "execution_count": null,
   "id": "b3879a1f",
   "metadata": {},
   "outputs": [],
   "source": [
    "# Your API configuration from environment variables\n",
    "BASE_URL = os.getenv(\"BASE_URL\", \"https://yylh5vmmm0.execute-api.eu-central-1.amazonaws.com/prod\")\n",
    "API_KEY = os.getenv(\"API_KEY\", \"ALI-CLASS-2025\")"
   ]
  },
  {
   "cell_type": "code",
   "execution_count": null,
   "id": "5ac97073",
   "metadata": {},
   "outputs": [],
   "source": [
    "# Headers for authentication\n",
    "headers = {\n",
    "    \"Authorization\": f\"Bearer {API_KEY}\",\n",
    "    \"Content-Type\": \"application/json\"\n",
    "}"
   ]
  },
  {
   "cell_type": "code",
   "execution_count": null,
   "id": "62b99ba1",
   "metadata": {},
   "outputs": [],
   "source": [
    "print(\"✅ Configuration loaded!\")\n",
    "print(f\"🌐 Base URL: {BASE_URL}\")\n",
    "print(f\"🔑 API Key: {API_KEY[:10]}...\")"
   ]
  },
  {
   "cell_type": "markdown",
   "id": "8f94c2ad",
   "metadata": {},
   "source": [
    "============================================================================\n",
    "🗺 PART 1: MACRO VIEW - WHY THIS MATTERS NOW\n",
    "============================================================================"
   ]
  },
  {
   "cell_type": "code",
   "execution_count": null,
   "id": "0897899b",
   "metadata": {},
   "outputs": [],
   "source": [
    "print(\"\\n\" + \"=\" * 70)\n",
    "print(\"🗺 PART 1: Macro View - Why This Matters Now\")\n",
    "print(\"=\" * 70)"
   ]
  },
  {
   "cell_type": "code",
   "execution_count": null,
   "id": "c55b770c",
   "metadata": {},
   "outputs": [],
   "source": [
    "print(\"\"\"\n",
    "🎯 ELI5: People used to search like robots (\"yogurt cake recipe\"), \n",
    "now they search like humans (\"what is the recipe for yogurt cake?\"). \n",
    "AI has to be smart enough to understand full questions, images, \n",
    "even ideas — and give a straight answer.\n",
    "\n",
    "🔄 KEY SHIFTS IN SEARCH & UX:\n",
    "\n",
    "1. **From keywords → full questions**\n",
    "   - Old: \"yogurt cake recipe\"\n",
    "   - New: \"What's a good recipe for yogurt cake that's not too sweet?\"\n",
    "\n",
    "2. **From static filters → interactive, natural filters**\n",
    "   - Old: Checkboxes for \"vegetarian\", \"gluten-free\"\n",
    "   - New: \"I'm vegetarian and allergic to nuts, what can I cook?\"\n",
    "\n",
    "3. **From static results → conversational guidance**\n",
    "   - Old: List of links\n",
    "   - New: AI works like a guide, not just a librarian\n",
    "\n",
    "❌ WHY ELASTICSEARCH ALONE WON'T CUT IT:\n",
    "\n",
    "It's like trying to find a movie by shouting a whole plot at a DVD store \n",
    "clerk who only listens for exact words.\n",
    "\"\"\")"
   ]
  },
  {
   "cell_type": "markdown",
   "id": "6e5f3a83",
   "metadata": {},
   "source": [
    "============================================================================\n",
    "🧪 PART 1: DEMONSTRATION - OLD VS NEW SEARCH PATTERNS\n",
    "============================================================================"
   ]
  },
  {
   "cell_type": "code",
   "execution_count": null,
   "id": "92ace79f",
   "metadata": {
    "lines_to_next_cell": 1
   },
   "outputs": [],
   "source": [
    "print(\"\\n\" + \"=\" * 70)\n",
    "print(\"🧪 PART 1: Demonstration - Old vs New Search Patterns\")\n",
    "print(\"=\" * 70)"
   ]
  },
  {
   "cell_type": "code",
   "execution_count": null,
   "id": "152352c9",
   "metadata": {
    "lines_to_next_cell": 1
   },
   "outputs": [],
   "source": [
    "def demonstrate_search_evolution():\n",
    "    \"\"\"Demonstrate the evolution from keyword to semantic search\"\"\"\n",
    "    \n",
    "    print(\"🔍 OLD SEARCH PATTERN (Keyword-based):\")\n",
    "    print(\"-\" * 50)\n",
    "    \n",
    "    old_queries = [\n",
    "        \"yogurt cake recipe\",\n",
    "        \"vegetarian dinner\",\n",
    "        \"budget travel europe\",\n",
    "        \"python tutorial\",\n",
    "        \"project management tools\"\n",
    "    ]\n",
    "    \n",
    "    for query in old_queries:\n",
    "        print(f\"  ❌ '{query}' → Returns exact matches only\")\n",
    "    \n",
    "    print(\"\\n🤖 NEW SEARCH PATTERN (Semantic + Reasoning):\")\n",
    "    print(\"-\" * 50)\n",
    "    \n",
    "    new_queries = [\n",
    "        \"I want to bake a cake but only have yogurt and eggs, what can I make?\",\n",
    "        \"I'm vegetarian and my kids don't like spicy food, dinner ideas?\",\n",
    "        \"I have $2000 and 2 weeks, where should I travel in Europe?\",\n",
    "        \"I'm a beginner programmer, what's the best way to learn Python?\",\n",
    "        \"I need to manage a team of 5 developers, what tools should I use?\"\n",
    "    ]\n",
    "    \n",
    "    for query in new_queries:\n",
    "        print(f\"  ✅ '{query}' → AI understands context and provides guidance\")"
   ]
  },
  {
   "cell_type": "code",
   "execution_count": null,
   "id": "55a66849",
   "metadata": {},
   "outputs": [],
   "source": [
    "demonstrate_search_evolution()"
   ]
  },
  {
   "cell_type": "markdown",
   "id": "c6e866a9",
   "metadata": {},
   "source": [
    "============================================================================\n",
    "🎯 PART 1: TASK - REAL CUSTOMER QUESTIONS\n",
    "============================================================================"
   ]
  },
  {
   "cell_type": "code",
   "execution_count": null,
   "id": "6dd85b26",
   "metadata": {},
   "outputs": [],
   "source": [
    "print(\"\\n\" + \"=\" * 70)\n",
    "print(\"🎯 PART 1: Task - Real Customer Questions from Your Domain\")\n",
    "print(\"=\" * 70)"
   ]
  },
  {
   "cell_type": "code",
   "execution_count": null,
   "id": "aac025a3",
   "metadata": {},
   "outputs": [],
   "source": [
    "print(\"\"\"\n",
    "🎯 YOUR TASK: Write 3 real customer questions from your domain \n",
    "that would require multi-step reasoning to answer.\n",
    "\n",
    "Think about questions that:\n",
    "- Have multiple constraints or requirements\n",
    "- Need context from different sources\n",
    "- Require reasoning, not just retrieval\n",
    "- Would be impossible with traditional keyword search\n",
    "\n",
    "Examples from different domains:\n",
    "\n",
    "🏥 HEALTHCARE:\n",
    "- \"I have diabetes and high blood pressure, what exercises are safe for me?\"\n",
    "- \"My child has a fever and rash, when should I call the doctor?\"\n",
    "\n",
    "🏦 FINANCE:\n",
    "- \"I'm 25, earn $60k, and want to buy a house in 5 years, what should I do?\"\n",
    "- \"I have $10k in savings, what's the best investment strategy for my risk tolerance?\"\n",
    "\n",
    "🛒 E-COMMERCE:\n",
    "- \"I need a laptop for video editing under $1000, what's the best option?\"\n",
    "- \"I'm planning a camping trip, what gear do I need for 4 people in winter?\"\n",
    "\n",
    "💻 YOUR DOMAIN: Write 3 questions below:\n",
    "\"\"\")"
   ]
  },
  {
   "cell_type": "code",
   "execution_count": null,
   "id": "6c38d840",
   "metadata": {},
   "outputs": [],
   "source": [
    "# Interactive input for participants\n",
    "print(\"📝 Your 3 customer questions (replace with your actual questions):\")\n",
    "print(\"1. _________________________________________________\")\n",
    "print(\"2. _________________________________________________\")\n",
    "print(\"3. _________________________________________________\")"
   ]
  },
  {
   "cell_type": "markdown",
   "id": "12eac46c",
   "metadata": {},
   "source": [
    "============================================================================\n",
    "🛠 PART 1: MODERN AI PATTERNS\n",
    "============================================================================"
   ]
  },
  {
   "cell_type": "code",
   "execution_count": null,
   "id": "954e4998",
   "metadata": {},
   "outputs": [],
   "source": [
    "print(\"\\n\" + \"=\" * 70)\n",
    "print(\"🛠 PART 1: Modern AI Patterns\")\n",
    "print(\"=\" * 70)"
   ]
  },
  {
   "cell_type": "code",
   "execution_count": null,
   "id": "2c6129c6",
   "metadata": {},
   "outputs": [],
   "source": [
    "print(\"\"\"\n",
    "🔴 OLD STACK LIMITATIONS:\n",
    "\n",
    "- **ElasticSearch/BM25** = great for keywords\n",
    "- **Chokes on long, multi-step, conversational asks**\n",
    "- **No understanding of context or intent**\n",
    "- **Static ranking that doesn't adapt to user needs**\n",
    "\n",
    "🟢 MODERN STACK SOLUTIONS:\n",
    "\n",
    "1. **RAG (Retrieval Augmented Generation)**\n",
    "   - Pull facts + let LLM reason\n",
    "   - Like looking in the right book before answering the question\n",
    "\n",
    "2. **Add Evaluation (RAG-Triad)**\n",
    "   - Groundedness: Is the answer based on retrieved facts?\n",
    "   - Context Relevance: Are the retrieved facts relevant?\n",
    "   - Answer Relevance: Does the answer address the question?\n",
    "\n",
    "3. **Add Tools + Planning**\n",
    "   - APIs, DB queries, external services\n",
    "   - Multi-step reasoning and execution\n",
    "   - Fallback and error handling\n",
    "\"\"\")"
   ]
  },
  {
   "cell_type": "markdown",
   "id": "d95c7d39",
   "metadata": {},
   "source": [
    "============================================================================\n",
    "📝 PART 1 SUMMARY\n",
    "============================================================================"
   ]
  },
  {
   "cell_type": "code",
   "execution_count": null,
   "id": "fb438b74",
   "metadata": {},
   "outputs": [],
   "source": [
    "print(\"\\n\" + \"=\" * 70)\n",
    "print(\"📝 PART 1 SUMMARY\")\n",
    "print(\"=\" * 70)"
   ]
  },
  {
   "cell_type": "code",
   "execution_count": null,
   "id": "497515c8",
   "metadata": {},
   "outputs": [],
   "source": [
    "print(\"\"\"\n",
    "✅ WHAT WE COVERED:\n",
    "\n",
    "1. **Macro View**: Why search evolution matters now\n",
    "   - From keywords to full questions\n",
    "   - From static filters to natural language\n",
    "   - From results to conversational guidance\n",
    "\n",
    "2. **Search Evolution**: Keywords → Questions → Reasoning\n",
    "   - Ranking ≠ solving\n",
    "   - Semantic understanding > exact match\n",
    "   - Need for retrieval + reasoning\n",
    "\n",
    "3. **Modern AI Patterns**: RAG + Evaluation + Tools\n",
    "   - RAG: Pull facts + let LLM reason\n",
    "   - RAG-Triad: Groundedness, context relevance, answer relevance\n",
    "   - Tools: APIs, DB queries, planning\n",
    "\n",
    "🎯 KEY INSIGHTS:\n",
    "\n",
    "- **ElasticSearch alone won't cut it** for modern user expectations\n",
    "- **Users expect answers, not links**\n",
    "- **AI needs to work like a guide, not a librarian**\n",
    "- **Multi-step reasoning is essential**\n",
    "\n",
    "🚀 NEXT UP: Why Agentic Systems Matter!\n",
    "\"\"\")"
   ]
  },
  {
   "cell_type": "code",
   "execution_count": null,
   "id": "eb51f002",
   "metadata": {},
   "outputs": [],
   "source": [
    "print(\"\\n🎉 Part 1 Complete! Moving to Part 2...\")"
   ]
  },
  {
   "cell_type": "markdown",
   "id": "d2558add",
   "metadata": {},
   "source": [
    "============================================================================\n",
    "🤖 PART 2: WHY AGENTIC SYSTEMS MATTER\n",
    "============================================================================"
   ]
  },
  {
   "cell_type": "code",
   "execution_count": null,
   "id": "f808fc12",
   "metadata": {},
   "outputs": [],
   "source": [
    "print(\"\\n\" + \"=\" * 70)\n",
    "print(\"🤖 PART 2: Why Agentic Systems Matter\")\n",
    "print(\"=\" * 70)"
   ]
  },
  {
   "cell_type": "code",
   "execution_count": null,
   "id": "f67725b8",
   "metadata": {},
   "outputs": [],
   "source": [
    "print(\"\"\"\n",
    "🎯 ELI5: An agent is like an intern who can use the phone, search the web, \n",
    "and remember what you said 5 minutes ago. An agentic system is a whole team \n",
    "of such interns with a manager making sure they follow the plan.\n",
    "\n",
    "🔑 KEY CHARACTERISTICS OF AGENTIC SYSTEMS:\n",
    "\n",
    "1. **Memory**: Can remember conversations, facts, and context\n",
    "2. **Tools**: Can use external services, APIs, and databases\n",
    "3. **Planning**: Can break down complex tasks into steps\n",
    "4. **Reasoning**: Can think through problems and make decisions\n",
    "5. **Adaptation**: Can learn from feedback and adjust behavior\n",
    "\n",
    "🔄 COMPARISON: Basic LLM vs Agentic System\n",
    "\n",
    "📝 BASIC LLM:\n",
    "- Responds to prompts\n",
    "- No memory between calls\n",
    "- No access to external tools\n",
    "- No planning or reasoning\n",
    "- Like talking to a very smart person with amnesia\n",
    "\n",
    "🤖 AGENTIC SYSTEM:\n",
    "- Maintains conversation context\n",
    "- Can use tools and APIs\n",
    "- Plans multi-step tasks\n",
    "- Reasons about complex problems\n",
    "- Like working with a smart assistant who remembers everything\n",
    "\"\"\")"
   ]
  },
  {
   "cell_type": "markdown",
   "id": "2a057bf3",
   "metadata": {},
   "source": [
    "============================================================================\n",
    "🧠 PART 2: MEMORY TYPES IN AGENTIC SYSTEMS\n",
    "============================================================================"
   ]
  },
  {
   "cell_type": "code",
   "execution_count": null,
   "id": "a1e87a26",
   "metadata": {
    "lines_to_next_cell": 1
   },
   "outputs": [],
   "source": [
    "print(\"\\n\" + \"=\" * 70)\n",
    "print(\"🧠 PART 2: Memory Types in Agentic Systems\")\n",
    "print(\"=\" * 70)"
   ]
  },
  {
   "cell_type": "code",
   "execution_count": null,
   "id": "cf8f2a87",
   "metadata": {
    "lines_to_next_cell": 1
   },
   "outputs": [],
   "source": [
    "def demonstrate_memory_types():\n",
    "    \"\"\"Demonstrate different types of memory in agentic systems\"\"\"\n",
    "    \n",
    "    print(\"🧠 MEMORY TYPES:\")\n",
    "    print(\"-\" * 50)\n",
    "    \n",
    "    memory_types = {\n",
    "        \"Short-term\": {\n",
    "            \"description\": \"Conversation so far\",\n",
    "            \"example\": \"User asked about laptops, then mentioned budget\",\n",
    "            \"use_case\": \"Maintain context within a session\"\n",
    "        },\n",
    "        \"Long-term\": {\n",
    "            \"description\": \"Facts learned before\",\n",
    "            \"example\": \"User prefers Apple products, has budget constraints\",\n",
    "            \"use_case\": \"Personalize responses across sessions\"\n",
    "        },\n",
    "        \"Semantic\": {\n",
    "            \"description\": \"Topics & meaning\",\n",
    "            \"example\": \"User is interested in technology and productivity\",\n",
    "            \"use_case\": \"Understand user intent and preferences\"\n",
    "        }\n",
    "    }\n",
    "    \n",
    "    for memory_type, details in memory_types.items():\n",
    "        print(f\"\\n📚 {memory_type} Memory:\")\n",
    "        print(f\"   Description: {details['description']}\")\n",
    "        print(f\"   Example: {details['example']}\")\n",
    "        print(f\"   Use Case: {details['use_case']}\")"
   ]
  },
  {
   "cell_type": "code",
   "execution_count": null,
   "id": "f11c5ab4",
   "metadata": {},
   "outputs": [],
   "source": [
    "demonstrate_memory_types()"
   ]
  },
  {
   "cell_type": "markdown",
   "id": "9e6bd3a1",
   "metadata": {},
   "source": [
    "============================================================================\n",
    "🛠 PART 2: TOOLS YOUR AGENT WOULD NEED\n",
    "============================================================================"
   ]
  },
  {
   "cell_type": "code",
   "execution_count": null,
   "id": "07b4d5c9",
   "metadata": {},
   "outputs": [],
   "source": [
    "print(\"\\n\" + \"=\" * 70)\n",
    "print(\"🛠 PART 2: Tools Your Agent Would Need\")\n",
    "print(\"=\" * 70)"
   ]
  },
  {
   "cell_type": "code",
   "execution_count": null,
   "id": "b864797a",
   "metadata": {},
   "outputs": [],
   "source": [
    "print(\"\"\"\n",
    "🎯 TASK: List tools your agent would need to solve your earlier customer questions.\n",
    "\n",
    "Think about what your agent would need to:\n",
    "- Search for information\n",
    "- Calculate or compute\n",
    "- Access external services\n",
    "- Validate data\n",
    "- Generate responses\n",
    "\n",
    "🔧 COMMON AGENT TOOLS:\n",
    "\n",
    "1. **Search Tools**\n",
    "   - Web search (Google, Bing)\n",
    "   - Internal knowledge base\n",
    "   - Document search\n",
    "   - Product catalog search\n",
    "\n",
    "2. **Computation Tools**\n",
    "   - Calculator\n",
    "   - Unit converter\n",
    "   - Date/time utilities\n",
    "   - Statistical analysis\n",
    "\n",
    "3. **External APIs**\n",
    "   - Weather data\n",
    "   - Stock prices\n",
    "   - Maps and location\n",
    "   - Social media\n",
    "\n",
    "4. **Validation Tools**\n",
    "   - Data format checking\n",
    "   - Business rule validation\n",
    "   - User input validation\n",
    "   - Compliance checking\n",
    "\n",
    "5. **Communication Tools**\n",
    "   - Email sending\n",
    "   - SMS notifications\n",
    "   - Slack/Teams integration\n",
    "   - Voice synthesis\n",
    "\"\"\")"
   ]
  },
  {
   "cell_type": "markdown",
   "id": "4f803f56",
   "metadata": {},
   "source": [
    "============================================================================\n",
    "🎯 PART 2: YOUR TURN - AGENT TOOLS FOR YOUR DOMAIN\n",
    "============================================================================"
   ]
  },
  {
   "cell_type": "code",
   "execution_count": null,
   "id": "ab174df3",
   "metadata": {},
   "outputs": [],
   "source": [
    "print(\"\\n\" + \"=\" * 70)\n",
    "print(\"🎯 PART 2: Your Turn - Agent Tools for Your Domain\")\n",
    "print(\"=\" * 70)"
   ]
  },
  {
   "cell_type": "code",
   "execution_count": null,
   "id": "23ce2aea",
   "metadata": {},
   "outputs": [],
   "source": [
    "print(\"\"\"\n",
    "🎯 THINK ABOUT YOUR CUSTOMER QUESTIONS FROM PART 1:\n",
    "\n",
    "What tools would your agent need to answer them effectively?\n",
    "\n",
    "Example for E-commerce:\n",
    "Question: \"I need a laptop for video editing under $1000\"\n",
    "\n",
    "Required Tools:\n",
    "1. **Product Search Tool** - Search laptop catalog\n",
    "2. **Specification Tool** - Get detailed laptop specs\n",
    "3. **Review Tool** - Access customer reviews\n",
    "4. **Price Tool** - Check current prices and deals\n",
    "5. **Recommendation Tool** - Rank options by suitability\n",
    "6. **Budget Calculator** - Calculate total cost with accessories\n",
    "\n",
    "💡 YOUR DOMAIN: List the tools your agent would need:\n",
    "\"\"\")"
   ]
  },
  {
   "cell_type": "code",
   "execution_count": null,
   "id": "e10242c4",
   "metadata": {},
   "outputs": [],
   "source": [
    "# Interactive input for participants\n",
    "print(\"📝 Tools your agent would need (replace with your actual tools):\")\n",
    "print(\"1. _________________________________________________\")\n",
    "print(\"2. _________________________________________________\")\n",
    "print(\"3. _________________________________________________\")\n",
    "print(\"4. _________________________________________________\")\n",
    "print(\"5. _________________________________________________\")"
   ]
  },
  {
   "cell_type": "markdown",
   "id": "b2680fb4",
   "metadata": {},
   "source": [
    "============================================================================\n",
    "🧩 PART 2: AGENTIC SYSTEM ARCHITECTURE\n",
    "============================================================================"
   ]
  },
  {
   "cell_type": "code",
   "execution_count": null,
   "id": "374d4b0a",
   "metadata": {},
   "outputs": [],
   "source": [
    "print(\"\\n\" + \"=\" * 70)\n",
    "print(\"🧩 PART 2: Agentic System Architecture\")\n",
    "print(\"=\" * 70)"
   ]
  },
  {
   "cell_type": "code",
   "execution_count": null,
   "id": "c1e78159",
   "metadata": {},
   "outputs": [],
   "source": [
    "print(\"\"\"\n",
    "🏗️ HOW AGENTIC SYSTEMS ARE BUILT:\n",
    "\n",
    "1. **Core LLM**: The brain that understands and reasons\n",
    "2. **Memory System**: Stores context and learns over time\n",
    "3. **Tool Registry**: Available tools and their capabilities\n",
    "4. **Planning Engine**: Breaks down complex tasks\n",
    "5. **Execution Engine**: Runs tools and manages workflow\n",
    "6. **Guardrails**: Safety and compliance checks\n",
    "\n",
    "🔄 WORKFLOW EXAMPLE:\n",
    "\n",
    "User: \"I need a laptop for video editing under $1000\"\n",
    "\n",
    "Agent Workflow:\n",
    "1. **Understand**: Parse request, extract requirements\n",
    "2. **Plan**: Break into search, filter, rank, recommend\n",
    "3. **Execute**: Use tools to gather information\n",
    "4. **Reason**: Analyze options and constraints\n",
    "5. **Present**: Provide ranked recommendations with explanations\n",
    "\n",
    "🛡️ GUARDRAILS:\n",
    "- Budget validation\n",
    "- Safety checks\n",
    "- Compliance verification\n",
    "- Fallback handling\n",
    "\"\"\")"
   ]
  },
  {
   "cell_type": "markdown",
   "id": "cf62c00d",
   "metadata": {},
   "source": [
    "============================================================================\n",
    "📝 PART 2 SUMMARY\n",
    "============================================================================"
   ]
  },
  {
   "cell_type": "code",
   "execution_count": null,
   "id": "c1ca9cbf",
   "metadata": {},
   "outputs": [],
   "source": [
    "print(\"\\n\" + \"=\" * 70)\n",
    "print(\"📝 PART 2 SUMMARY\")\n",
    "print(\"=\" * 70)"
   ]
  },
  {
   "cell_type": "code",
   "execution_count": null,
   "id": "446005bd",
   "metadata": {},
   "outputs": [],
   "source": [
    "print(\"\"\"\n",
    "✅ WHAT WE COVERED:\n",
    "\n",
    "1. **Agentic System Characteristics**\n",
    "   - Memory, tools, planning, reasoning, adaptation\n",
    "   - Comparison with basic LLMs\n",
    "\n",
    "2. **Memory Types**\n",
    "   - Short-term: Conversation context\n",
    "   - Long-term: Learned facts\n",
    "   - Semantic: Topics and meaning\n",
    "\n",
    "3. **Required Tools**\n",
    "   - Search, computation, APIs, validation, communication\n",
    "   - Domain-specific tool requirements\n",
    "\n",
    "4. **System Architecture**\n",
    "   - Core LLM, memory, tools, planning, execution, guardrails\n",
    "   - Workflow and safety considerations\n",
    "\n",
    "🎯 KEY INSIGHTS:\n",
    "\n",
    "- **Agents are like smart interns** with memory and tools\n",
    "- **Memory enables personalization** and context awareness\n",
    "- **Tools extend capabilities** beyond text generation\n",
    "- **Guardrails ensure safety** and compliance\n",
    "- **ROI comes from automation** and personalization\n",
    "\n",
    "🚀 NEXT UP: Library vs Framework vs Platform!\n",
    "\"\"\")"
   ]
  },
  {
   "cell_type": "code",
   "execution_count": null,
   "id": "9b4c7038",
   "metadata": {},
   "outputs": [],
   "source": [
    "print(\"\\n🎉 Part 2 Complete! Moving to Part 3...\")"
   ]
  },
  {
   "cell_type": "markdown",
   "id": "f3b0b628",
   "metadata": {},
   "source": [
    "============================================================================\n",
    "📚 PART 3: LIBRARY VS FRAMEWORK VS PLATFORM\n",
    "============================================================================"
   ]
  },
  {
   "cell_type": "code",
   "execution_count": null,
   "id": "a2b13b03",
   "metadata": {},
   "outputs": [],
   "source": [
    "print(\"\\n\" + \"=\" * 70)\n",
    "print(\"📚 PART 3: Library vs Framework vs Platform\")\n",
    "print(\"=\" * 70)"
   ]
  },
  {
   "cell_type": "code",
   "execution_count": null,
   "id": "8b0edfcd",
   "metadata": {},
   "outputs": [],
   "source": [
    "print(\"\"\"\n",
    "🎯 ELI5:\n",
    "- **Library:** A toolbox (you figure out what to build).\n",
    "- **Framework:** IKEA furniture (you follow a pattern).\n",
    "- **Platform:** Amazon Prime (everything delivered & hosted).\n",
    "\n",
    "🔧 THE LANGCHAIN ECOSYSTEM:\n",
    "\n",
    "1. **LangChain** - Lego bricks for prompts, tools, memory, retrieval\n",
    "2. **LangGraph** - The Lego instruction booklet — step-by-step building with control flow\n",
    "3. **LangSmith** - CCTV + notebook — watch every step, replay mistakes, improve\n",
    "4. **LangServe** - Turn your Lego creation into a web service for others\n",
    "\n",
    "📊 EXAMPLES BY CATEGORY:\n",
    "\n",
    "Library: Transformers, FAISS\n",
    "Framework: LangChain, LangGraph\n",
    "Platform: AWS Bedrock, Vertex AI\n",
    "\n",
    "💡 HOW TO CHOOSE:\n",
    "\n",
    "- **Start with LangChain** if you're building basic agents\n",
    "- **Move to LangGraph** when you need complex workflows\n",
    "- **Add LangSmith** for observability and debugging\n",
    "- **Use LangServe** when you're ready to deploy\n",
    "\"\"\")"
   ]
  },
  {
   "cell_type": "markdown",
   "id": "53be7d76",
   "metadata": {},
   "source": [
    "============================================================================\n",
    "🎯 PART 3: TASK - CHOOSE YOUR TOOLS\n",
    "============================================================================"
   ]
  },
  {
   "cell_type": "code",
   "execution_count": null,
   "id": "81602641",
   "metadata": {},
   "outputs": [],
   "source": [
    "print(\"\\n\" + \"=\" * 70)\n",
    "print(\"🎯 PART 3: Task - Choose Your Tools\")\n",
    "print(\"=\" * 70)"
   ]
  },
  {
   "cell_type": "code",
   "execution_count": null,
   "id": "f441b64a",
   "metadata": {},
   "outputs": [],
   "source": [
    "print(\"\"\"\n",
    "🎯 YOUR TASK: Based on your agentic system use case from Part 2,\n",
    "choose which LangChain ecosystem tools you would use.\n",
    "\n",
    "Think about:\n",
    "1. **What complexity** does your system need?\n",
    "2. **What observability** do you require?\n",
    "3. **What deployment** model fits your needs?\n",
    "\n",
    "Example Framework:\n",
    "\n",
    "🏥 HEALTHCARE USE CASE:\n",
    "Problem: Patient symptom checker with medical knowledge\n",
    "LangChain: Basic agent with medical tools\n",
    "LangGraph: Multi-step diagnosis workflow\n",
    "LangSmith: Track accuracy and compliance\n",
    "LangServe: Deploy as patient-facing API\n",
    "\n",
    "💻 YOUR USE CASE: Fill in the framework below:\n",
    "\"\"\")"
   ]
  },
  {
   "cell_type": "code",
   "execution_count": null,
   "id": "7197632a",
   "metadata": {},
   "outputs": [],
   "source": [
    "# Interactive input for participants\n",
    "print(\"📝 Your Tool Selection:\")\n",
    "print(\"Problem: _________________________________________________\")\n",
    "print(\"LangChain: _________________________________________________\")\n",
    "print(\"LangGraph: _________________________________________________\")\n",
    "print(\"LangSmith: _________________________________________________\")\n",
    "print(\"LangServe: _________________________________________________\")"
   ]
  },
  {
   "cell_type": "markdown",
   "id": "c8e8ad9a",
   "metadata": {},
   "source": [
    "============================================================================\n",
    "📝 PART 3 SUMMARY\n",
    "============================================================================"
   ]
  },
  {
   "cell_type": "code",
   "execution_count": null,
   "id": "55f24408",
   "metadata": {},
   "outputs": [],
   "source": [
    "print(\"\\n\" + \"=\" * 70)\n",
    "print(\"📝 PART 3 SUMMARY\")\n",
    "print(\"=\" * 70)"
   ]
  },
  {
   "cell_type": "code",
   "execution_count": null,
   "id": "3dfc7a23",
   "metadata": {},
   "outputs": [],
   "source": [
    "print(\"\"\"\n",
    "✅ WHAT WE COVERED:\n",
    "\n",
    "1. **Tool Categories**\n",
    "   - Library: Building blocks\n",
    "   - Framework: Structured patterns\n",
    "   - Platform: Complete solutions\n",
    "\n",
    "2. **LangChain Ecosystem**\n",
    "   - LangChain: Basic agent building\n",
    "   - LangGraph: Complex workflows\n",
    "   - LangSmith: Observability\n",
    "   - LangServe: Deployment\n",
    "\n",
    "3. **Tool Selection**\n",
    "   - Match complexity to needs\n",
    "   - Consider observability requirements\n",
    "   - Plan for deployment\n",
    "\n",
    "🎯 KEY INSIGHTS:\n",
    "\n",
    "- **Start simple** with LangChain\n",
    "- **Add complexity** with LangGraph when needed\n",
    "- **Monitor everything** with LangSmith\n",
    "- **Deploy easily** with LangServe\n",
    "\n",
    "🚀 NEXT UP: Hands-on Labs!\n",
    "\"\"\")"
   ]
  },
  {
   "cell_type": "code",
   "execution_count": null,
   "id": "4f40b6de",
   "metadata": {},
   "outputs": [],
   "source": [
    "print(\"\\n🎉 Part 3 Complete! Moving to Hands-on Labs...\")"
   ]
  },
  {
   "cell_type": "markdown",
   "id": "bac7a2f2",
   "metadata": {},
   "source": [
    "============================================================================\n",
    "💻 PART 4: HANDS-ON LABS PREVIEW\n",
    "============================================================================"
   ]
  },
  {
   "cell_type": "code",
   "execution_count": null,
   "id": "7c05160b",
   "metadata": {},
   "outputs": [],
   "source": [
    "print(\"\\n\" + \"=\" * 70)\n",
    "print(\"💻 PART 4: Hands-on Labs Preview\")\n",
    "print(\"=\" * 70)"
   ]
  },
  {
   "cell_type": "code",
   "execution_count": null,
   "id": "abb502ed",
   "metadata": {},
   "outputs": [],
   "source": [
    "print(\"\"\"\n",
    "🎯 WHAT'S COMING IN THE LABS:\n",
    "\n",
    "**Lab A: Hello Agent in LangChain (30 min)**\n",
    "- Turn a plain LLM into an agent that can call a tool\n",
    "- Install LangChain + API key setup\n",
    "- Create a tool (e.g., calculator, KB search)\n",
    "- Wrap LLM with tool access\n",
    "- Run and inspect with LangSmith\n",
    "\n",
    "**Lab B: Form-filling Chatbot in LangGraph (30 min)**\n",
    "- A deterministic, 5-field form bot (e.g., return request)\n",
    "- Flow: Collect → Validate → Enrich → Confirm → Submit\n",
    "- Guardrails: retries, timeouts, human fallback\n",
    "- Like the supermarket self-checkout, but for data entry\n",
    "\n",
    "**Lab C: Observability & Evaluation (15 min)**\n",
    "- Watch all agent runs (like black box for AI)\n",
    "- Set KPIs: resolution rate, time-to-first-action\n",
    "- Create saved views for failed runs & slow tools\n",
    "\n",
    "**Lab D: Production Deployment (15 min)**\n",
    "- Wrap graph/agent in FastAPI endpoint with LangServe\n",
    "- Handle multi-channel sessions (web, WhatsApp, mobile)\n",
    "- Deploy and test your agentic system\n",
    "\"\"\")"
   ]
  },
  {
   "cell_type": "markdown",
   "id": "ed207016",
   "metadata": {},
   "source": [
    "============================================================================\n",
    "🎯 WORKSHOP COMPLETION\n",
    "============================================================================"
   ]
  },
  {
   "cell_type": "code",
   "execution_count": null,
   "id": "2bcba4fb",
   "metadata": {},
   "outputs": [],
   "source": [
    "print(\"\\n\" + \"=\" * 70)\n",
    "print(\"🎯 WORKSHOP COMPLETION\")\n",
    "print(\"=\" * 70)"
   ]
  },
  {
   "cell_type": "code",
   "execution_count": null,
   "id": "7f0b0cb8",
   "metadata": {},
   "outputs": [],
   "source": [
    "print(\"\"\"\n",
    "🌟 **CONGRATULATIONS!** 🌟\n",
    "\n",
    "You've completed the Advanced LLM Workshop and now understand:\n",
    "\n",
    "✅ **Search Evolution**: Why modern AI patterns matter\n",
    "✅ **Agentic Systems**: How to build intelligent assistants\n",
    "✅ **Tool Selection**: Choosing the right LangChain ecosystem tools\n",
    "✅ **Production Ready**: Understanding deployment and observability\n",
    "\n",
    "**What You've Learned:**\n",
    "\n",
    "1. **Macro View**: Search has evolved from keywords to reasoning\n",
    "2. **Agentic Patterns**: Memory, tools, planning, and guardrails\n",
    "3. **Tool Ecosystem**: LangChain, LangGraph, LangSmith, LangServe\n",
    "4. **Business Impact**: ROI through automation and personalization\n",
    "\n",
    "**Next Steps:**\n",
    "\n",
    "1. **Complete the Hands-on Labs** to build working systems\n",
    "2. **Apply to Your Domain** using the frameworks we discussed\n",
    "3. **Start Small** with LangChain, then scale with LangGraph\n",
    "4. **Measure Everything** with LangSmith for continuous improvement\n",
    "\n",
    "**Ready to Build Amazing AI Systems! 🚀**\n",
    "\n",
    "---\n",
    "\n",
    "**Workshop Files Created:**\n",
    "- `advanced_workshop_part1_macro.ipynb` - Macro view and search evolution\n",
    "- `advanced_workshop_part2_agentic.ipynb` - Agentic systems and architecture\n",
    "- `advanced_workshop_master.ipynb` - Complete workshop (this file)\n",
    "\n",
    "**Resources:**\n",
    "- Check the individual notebooks for focused learning\n",
    "- Use the master notebook for the complete experience\n",
    "- Apply the frameworks to your business use cases\n",
    "\n",
    "**Happy Building! 🎯**\n",
    "\"\"\")"
   ]
  },
  {
   "cell_type": "code",
   "execution_count": null,
   "id": "5f09933c",
   "metadata": {},
   "outputs": [],
   "source": [
    "print(\"\\n🎯 **Ready to build amazing AI systems!** 🚀\")"
   ]
  }
 ],
 "metadata": {
  "jupytext": {
   "cell_metadata_filter": "-all",
   "executable": "/usr/bin/env python3",
   "main_language": "python",
   "notebook_metadata_filter": "-all"
  }
 },
 "nbformat": 4,
 "nbformat_minor": 5
}
